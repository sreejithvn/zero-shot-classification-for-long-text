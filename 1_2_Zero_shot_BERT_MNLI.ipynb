{
  "cells": [
    {
      "cell_type": "markdown",
      "metadata": {
        "id": "view-in-github",
        "colab_type": "text"
      },
      "source": [
        "<a href=\"https://colab.research.google.com/github/sreejithvn/zero-shot-classification-for-long-text/blob/main/1_2_Zero_shot_BERT_MNLI.ipynb\" target=\"_parent\"><img src=\"https://colab.research.google.com/assets/colab-badge.svg\" alt=\"Open In Colab\"/></a>"
      ]
    },
    {
      "cell_type": "code",
      "execution_count": null,
      "metadata": {
        "id": "Cab0HuSXQhzr"
      },
      "outputs": [],
      "source": [
        "!pip install transformers"
      ]
    },
    {
      "cell_type": "code",
      "execution_count": null,
      "metadata": {
        "id": "wx6FD4I2Q5lS"
      },
      "outputs": [],
      "source": [
        "import pandas as pd\n",
        "import numpy as np\n",
        "import time\n",
        "\n",
        "from sklearn.metrics import accuracy_score, f1_score"
      ]
    },
    {
      "cell_type": "code",
      "source": [
        "# mount Google Drive\n",
        "from google.colab import drive\n",
        "drive.mount('/content/gdrive')"
      ],
      "metadata": {
        "colab": {
          "base_uri": "https://localhost:8080/"
        },
        "id": "UlhtXNERSY07",
        "outputId": "172aa75e-4e5e-44d7-ef53-254756dd8cd9"
      },
      "execution_count": null,
      "outputs": [
        {
          "output_type": "stream",
          "name": "stdout",
          "text": [
            "Mounted at /content/gdrive\n"
          ]
        }
      ]
    },
    {
      "cell_type": "code",
      "execution_count": null,
      "metadata": {
        "id": "Nqlx270oQ9P8"
      },
      "outputs": [],
      "source": [
        "df = pd.read_json('/content/gdrive/MyDrive/Colab Notebooks/MSC_Project/Jan2020Frontiers_20_labels.jsonl',lines=True)"
      ]
    },
    {
      "cell_type": "code",
      "execution_count": null,
      "metadata": {
        "id": "C0Y4BiLFQ9MB",
        "colab": {
          "base_uri": "https://localhost:8080/",
          "height": 206
        },
        "outputId": "02ae4fcd-a319-43fb-dd33-b524188fc5cd"
      },
      "outputs": [
        {
          "output_type": "execute_result",
          "data": {
            "text/plain": [
              "       id                                               text  \\\n",
              "0  465950  \\n Sleep Characteristics and Influencing Facto...   \n",
              "1  483526  A Hybrid Approach for Modeling Type 2 Diabetes...   \n",
              "2  437333  Environmental Health Research in Africa: Impor...   \n",
              "3  486515  \\n 3,5-T2—A Janus-Faced Thyroid Hormone Metabo...   \n",
              "4  488364  \\n Differential Regulation of LPS-Mediated VE-...   \n",
              "\n",
              "                                       journal  \\\n",
              "0                        Frontiers in Medicine   \n",
              "1                        Frontiers in Genetics   \n",
              "2                        Frontiers in Genetics   \n",
              "3                   Frontiers in Endocrinology   \n",
              "4  Frontiers in Cell and Developmental Biology   \n",
              "\n",
              "                            label  \\\n",
              "0                        Medicine   \n",
              "1                        Genetics   \n",
              "2                        Genetics   \n",
              "3                   Endocrinology   \n",
              "4  Cell and Developmental Biology   \n",
              "\n",
              "                                          clean_text  \n",
              "0  sleep characteristics and influencing factors ...  \n",
              "1  a hybrid approach for modeling type diabetes m...  \n",
              "2  environmental health research in africa: impor...  \n",
              "3  ,-—a janus-faced thyroid hormone metabolite ex...  \n",
              "4  differential regulation of lps-mediated ve-cad...  "
            ],
            "text/html": [
              "\n",
              "  <div id=\"df-8fc071b8-2025-40ee-9e61-901333f3a16a\">\n",
              "    <div class=\"colab-df-container\">\n",
              "      <div>\n",
              "<style scoped>\n",
              "    .dataframe tbody tr th:only-of-type {\n",
              "        vertical-align: middle;\n",
              "    }\n",
              "\n",
              "    .dataframe tbody tr th {\n",
              "        vertical-align: top;\n",
              "    }\n",
              "\n",
              "    .dataframe thead th {\n",
              "        text-align: right;\n",
              "    }\n",
              "</style>\n",
              "<table border=\"1\" class=\"dataframe\">\n",
              "  <thead>\n",
              "    <tr style=\"text-align: right;\">\n",
              "      <th></th>\n",
              "      <th>id</th>\n",
              "      <th>text</th>\n",
              "      <th>journal</th>\n",
              "      <th>label</th>\n",
              "      <th>clean_text</th>\n",
              "    </tr>\n",
              "  </thead>\n",
              "  <tbody>\n",
              "    <tr>\n",
              "      <th>0</th>\n",
              "      <td>465950</td>\n",
              "      <td>\\n Sleep Characteristics and Influencing Facto...</td>\n",
              "      <td>Frontiers in Medicine</td>\n",
              "      <td>Medicine</td>\n",
              "      <td>sleep characteristics and influencing factors ...</td>\n",
              "    </tr>\n",
              "    <tr>\n",
              "      <th>1</th>\n",
              "      <td>483526</td>\n",
              "      <td>A Hybrid Approach for Modeling Type 2 Diabetes...</td>\n",
              "      <td>Frontiers in Genetics</td>\n",
              "      <td>Genetics</td>\n",
              "      <td>a hybrid approach for modeling type diabetes m...</td>\n",
              "    </tr>\n",
              "    <tr>\n",
              "      <th>2</th>\n",
              "      <td>437333</td>\n",
              "      <td>Environmental Health Research in Africa: Impor...</td>\n",
              "      <td>Frontiers in Genetics</td>\n",
              "      <td>Genetics</td>\n",
              "      <td>environmental health research in africa: impor...</td>\n",
              "    </tr>\n",
              "    <tr>\n",
              "      <th>3</th>\n",
              "      <td>486515</td>\n",
              "      <td>\\n 3,5-T2—A Janus-Faced Thyroid Hormone Metabo...</td>\n",
              "      <td>Frontiers in Endocrinology</td>\n",
              "      <td>Endocrinology</td>\n",
              "      <td>,-—a janus-faced thyroid hormone metabolite ex...</td>\n",
              "    </tr>\n",
              "    <tr>\n",
              "      <th>4</th>\n",
              "      <td>488364</td>\n",
              "      <td>\\n Differential Regulation of LPS-Mediated VE-...</td>\n",
              "      <td>Frontiers in Cell and Developmental Biology</td>\n",
              "      <td>Cell and Developmental Biology</td>\n",
              "      <td>differential regulation of lps-mediated ve-cad...</td>\n",
              "    </tr>\n",
              "  </tbody>\n",
              "</table>\n",
              "</div>\n",
              "      <button class=\"colab-df-convert\" onclick=\"convertToInteractive('df-8fc071b8-2025-40ee-9e61-901333f3a16a')\"\n",
              "              title=\"Convert this dataframe to an interactive table.\"\n",
              "              style=\"display:none;\">\n",
              "        \n",
              "  <svg xmlns=\"http://www.w3.org/2000/svg\" height=\"24px\"viewBox=\"0 0 24 24\"\n",
              "       width=\"24px\">\n",
              "    <path d=\"M0 0h24v24H0V0z\" fill=\"none\"/>\n",
              "    <path d=\"M18.56 5.44l.94 2.06.94-2.06 2.06-.94-2.06-.94-.94-2.06-.94 2.06-2.06.94zm-11 1L8.5 8.5l.94-2.06 2.06-.94-2.06-.94L8.5 2.5l-.94 2.06-2.06.94zm10 10l.94 2.06.94-2.06 2.06-.94-2.06-.94-.94-2.06-.94 2.06-2.06.94z\"/><path d=\"M17.41 7.96l-1.37-1.37c-.4-.4-.92-.59-1.43-.59-.52 0-1.04.2-1.43.59L10.3 9.45l-7.72 7.72c-.78.78-.78 2.05 0 2.83L4 21.41c.39.39.9.59 1.41.59.51 0 1.02-.2 1.41-.59l7.78-7.78 2.81-2.81c.8-.78.8-2.07 0-2.86zM5.41 20L4 18.59l7.72-7.72 1.47 1.35L5.41 20z\"/>\n",
              "  </svg>\n",
              "      </button>\n",
              "      \n",
              "  <style>\n",
              "    .colab-df-container {\n",
              "      display:flex;\n",
              "      flex-wrap:wrap;\n",
              "      gap: 12px;\n",
              "    }\n",
              "\n",
              "    .colab-df-convert {\n",
              "      background-color: #E8F0FE;\n",
              "      border: none;\n",
              "      border-radius: 50%;\n",
              "      cursor: pointer;\n",
              "      display: none;\n",
              "      fill: #1967D2;\n",
              "      height: 32px;\n",
              "      padding: 0 0 0 0;\n",
              "      width: 32px;\n",
              "    }\n",
              "\n",
              "    .colab-df-convert:hover {\n",
              "      background-color: #E2EBFA;\n",
              "      box-shadow: 0px 1px 2px rgba(60, 64, 67, 0.3), 0px 1px 3px 1px rgba(60, 64, 67, 0.15);\n",
              "      fill: #174EA6;\n",
              "    }\n",
              "\n",
              "    [theme=dark] .colab-df-convert {\n",
              "      background-color: #3B4455;\n",
              "      fill: #D2E3FC;\n",
              "    }\n",
              "\n",
              "    [theme=dark] .colab-df-convert:hover {\n",
              "      background-color: #434B5C;\n",
              "      box-shadow: 0px 1px 3px 1px rgba(0, 0, 0, 0.15);\n",
              "      filter: drop-shadow(0px 1px 2px rgba(0, 0, 0, 0.3));\n",
              "      fill: #FFFFFF;\n",
              "    }\n",
              "  </style>\n",
              "\n",
              "      <script>\n",
              "        const buttonEl =\n",
              "          document.querySelector('#df-8fc071b8-2025-40ee-9e61-901333f3a16a button.colab-df-convert');\n",
              "        buttonEl.style.display =\n",
              "          google.colab.kernel.accessAllowed ? 'block' : 'none';\n",
              "\n",
              "        async function convertToInteractive(key) {\n",
              "          const element = document.querySelector('#df-8fc071b8-2025-40ee-9e61-901333f3a16a');\n",
              "          const dataTable =\n",
              "            await google.colab.kernel.invokeFunction('convertToInteractive',\n",
              "                                                     [key], {});\n",
              "          if (!dataTable) return;\n",
              "\n",
              "          const docLinkHtml = 'Like what you see? Visit the ' +\n",
              "            '<a target=\"_blank\" href=https://colab.research.google.com/notebooks/data_table.ipynb>data table notebook</a>'\n",
              "            + ' to learn more about interactive tables.';\n",
              "          element.innerHTML = '';\n",
              "          dataTable['output_type'] = 'display_data';\n",
              "          await google.colab.output.renderOutput(dataTable, element);\n",
              "          const docLink = document.createElement('div');\n",
              "          docLink.innerHTML = docLinkHtml;\n",
              "          element.appendChild(docLink);\n",
              "        }\n",
              "      </script>\n",
              "    </div>\n",
              "  </div>\n",
              "  "
            ]
          },
          "metadata": {},
          "execution_count": 5
        }
      ],
      "source": [
        "df.head()"
      ]
    },
    {
      "cell_type": "code",
      "execution_count": null,
      "metadata": {
        "id": "dW0EqOipQ8zz"
      },
      "outputs": [],
      "source": [
        "candidate_labels = list(df.label.unique())"
      ]
    },
    {
      "cell_type": "code",
      "source": [
        "len(df), len(candidate_labels)"
      ],
      "metadata": {
        "colab": {
          "base_uri": "https://localhost:8080/"
        },
        "id": "qpx4ShaRKbyV",
        "outputId": "37c13ed0-5557-4ce4-9cd4-6b5f452fbb6f"
      },
      "execution_count": null,
      "outputs": [
        {
          "output_type": "execute_result",
          "data": {
            "text/plain": [
              "(1101, 20)"
            ]
          },
          "metadata": {},
          "execution_count": 7
        }
      ]
    },
    {
      "cell_type": "markdown",
      "source": [
        "# SPLITTING DATA into TRAIN, VALIDATION and TEST sets"
      ],
      "metadata": {
        "id": "qsGhpgb_yf39"
      }
    },
    {
      "cell_type": "code",
      "source": [
        "from sklearn.model_selection import train_test_split"
      ],
      "metadata": {
        "id": "rTtxbHgkyozc"
      },
      "execution_count": null,
      "outputs": []
    },
    {
      "cell_type": "code",
      "source": [
        "train_texts, temp_texts, train_labels, temp_labels = train_test_split(df.clean_text, df.label, test_size=0.2, \n",
        "                                                                      random_state=42, stratify=df.label, shuffle=True)"
      ],
      "metadata": {
        "id": "FtVzlCidydn7"
      },
      "execution_count": null,
      "outputs": []
    },
    {
      "cell_type": "code",
      "source": [
        "val_texts, test_texts, val_labels, test_labels = train_test_split(temp_texts, temp_labels, test_size=0.5, \n",
        "                                                                  random_state=42, stratify=temp_labels, shuffle=True)"
      ],
      "metadata": {
        "id": "rMOonpX9ydbK"
      },
      "execution_count": null,
      "outputs": []
    },
    {
      "cell_type": "code",
      "source": [
        "# reset_indices\n",
        "train_texts.reset_index(drop=True, inplace=True), train_labels.reset_index(drop=True, inplace=True)\n",
        "val_texts.reset_index(drop=True, inplace=True), val_labels.reset_index(drop=True, inplace=True)\n",
        "test_texts.reset_index(drop=True, inplace=True), test_labels.reset_index(drop=True, inplace=True)"
      ],
      "metadata": {
        "colab": {
          "base_uri": "https://localhost:8080/"
        },
        "id": "Ij-CQY7Zy-je",
        "outputId": "c526c873-03c9-4a98-87c2-948d4e1d7298"
      },
      "execution_count": null,
      "outputs": [
        {
          "output_type": "execute_result",
          "data": {
            "text/plain": [
              "(None, None)"
            ]
          },
          "metadata": {},
          "execution_count": 11
        }
      ]
    },
    {
      "cell_type": "code",
      "source": [
        "test_texts"
      ],
      "metadata": {
        "colab": {
          "base_uri": "https://localhost:8080/"
        },
        "id": "ivwqTX4WXzSS",
        "outputId": "7ae8a73c-cf6c-428b-d588-dd3d437673e8"
      },
      "execution_count": null,
      "outputs": [
        {
          "output_type": "execute_result",
          "data": {
            "text/plain": [
              "0      respiratory morbidity and lung function analys...\n",
              "1      flavor techniques for lfv processes: higgs dec...\n",
              "2      corrigendum: human milk oligosaccharide compos...\n",
              "3      obsessive–compulsive personality symptoms pred...\n",
              "4      blood-brain barrier and delivery of protein an...\n",
              "                             ...                        \n",
              "106    synergies between division of labor and gut mi...\n",
              "107    efficient and stable photocatalytic hydrogen e...\n",
              "108    the δ-opioid receptor differentially regulates...\n",
              "109    thalidomide in the treatment of sweet's syndro...\n",
              "110    investigating gray and white matter structural...\n",
              "Name: clean_text, Length: 111, dtype: object"
            ]
          },
          "metadata": {},
          "execution_count": 12
        }
      ]
    },
    {
      "cell_type": "code",
      "source": [
        "train_texts.shape, val_texts.shape, test_texts.shape"
      ],
      "metadata": {
        "colab": {
          "base_uri": "https://localhost:8080/"
        },
        "id": "bAO6fLc31Esg",
        "outputId": "9d667823-cc03-44d3-f8eb-91a20d52388a"
      },
      "execution_count": null,
      "outputs": [
        {
          "output_type": "execute_result",
          "data": {
            "text/plain": [
              "((880,), (110,), (111,))"
            ]
          },
          "metadata": {},
          "execution_count": 13
        }
      ]
    },
    {
      "cell_type": "code",
      "source": [
        "# Each set contains samples from all classes\n",
        "len(train_labels.unique()), len(val_labels.unique()), len(test_labels.unique())"
      ],
      "metadata": {
        "colab": {
          "base_uri": "https://localhost:8080/"
        },
        "id": "IZIqLGCO2moV",
        "outputId": "13048845-84ca-4965-e995-692a95104485"
      },
      "execution_count": null,
      "outputs": [
        {
          "output_type": "execute_result",
          "data": {
            "text/plain": [
              "(20, 20, 20)"
            ]
          },
          "metadata": {},
          "execution_count": 14
        }
      ]
    },
    {
      "cell_type": "markdown",
      "source": [
        "### Each set is a representative sample with equal distribution for all classes"
      ],
      "metadata": {
        "id": "UO_BG3Ga6ABm"
      }
    },
    {
      "cell_type": "code",
      "source": [
        "pd.DataFrame([train_labels.value_counts(), val_labels.value_counts(), test_labels.value_counts()], \n",
        "             index=['Train', 'Val', 'Test']).T"
      ],
      "metadata": {
        "colab": {
          "base_uri": "https://localhost:8080/",
          "height": 676
        },
        "id": "_GOuCSHM3KC8",
        "outputId": "f3850234-9a16-4e0e-fdc3-c08a6ece38c1"
      },
      "execution_count": null,
      "outputs": [
        {
          "output_type": "execute_result",
          "data": {
            "text/plain": [
              "                                     Train  Val  Test\n",
              "Physiology                              84   10    11\n",
              "Genetics                                79   10    10\n",
              "Neuroscience                            71    9     9\n",
              "Psychiatry                              69    8     9\n",
              "Neurology                               61    7     8\n",
              "Chemistry                               55    7     7\n",
              "Marine Science                          51    6     7\n",
              "Bioengineering and Biotechnology        45    5     6\n",
              "Endocrinology                           42    5     6\n",
              "Cell and Developmental Biology          38    5     4\n",
              "Cellular and Infection Microbiology     37    5     4\n",
              "Veterinary Science                      36    5     4\n",
              "Medicine                                35    4     5\n",
              "Pediatrics                              34    4     5\n",
              "Physics                                 28    4     3\n",
              "Ecology and Evolution                   27    4     3\n",
              "Aging Neuroscience                      23    3     3\n",
              "Public Health                           23    3     3\n",
              "Cellular Neuroscience                   21    3     2\n",
              "Earth Science                           21    3     2"
            ],
            "text/html": [
              "\n",
              "  <div id=\"df-2dc3ee3a-bd68-43f1-9135-e959bd86fe39\">\n",
              "    <div class=\"colab-df-container\">\n",
              "      <div>\n",
              "<style scoped>\n",
              "    .dataframe tbody tr th:only-of-type {\n",
              "        vertical-align: middle;\n",
              "    }\n",
              "\n",
              "    .dataframe tbody tr th {\n",
              "        vertical-align: top;\n",
              "    }\n",
              "\n",
              "    .dataframe thead th {\n",
              "        text-align: right;\n",
              "    }\n",
              "</style>\n",
              "<table border=\"1\" class=\"dataframe\">\n",
              "  <thead>\n",
              "    <tr style=\"text-align: right;\">\n",
              "      <th></th>\n",
              "      <th>Train</th>\n",
              "      <th>Val</th>\n",
              "      <th>Test</th>\n",
              "    </tr>\n",
              "  </thead>\n",
              "  <tbody>\n",
              "    <tr>\n",
              "      <th>Physiology</th>\n",
              "      <td>84</td>\n",
              "      <td>10</td>\n",
              "      <td>11</td>\n",
              "    </tr>\n",
              "    <tr>\n",
              "      <th>Genetics</th>\n",
              "      <td>79</td>\n",
              "      <td>10</td>\n",
              "      <td>10</td>\n",
              "    </tr>\n",
              "    <tr>\n",
              "      <th>Neuroscience</th>\n",
              "      <td>71</td>\n",
              "      <td>9</td>\n",
              "      <td>9</td>\n",
              "    </tr>\n",
              "    <tr>\n",
              "      <th>Psychiatry</th>\n",
              "      <td>69</td>\n",
              "      <td>8</td>\n",
              "      <td>9</td>\n",
              "    </tr>\n",
              "    <tr>\n",
              "      <th>Neurology</th>\n",
              "      <td>61</td>\n",
              "      <td>7</td>\n",
              "      <td>8</td>\n",
              "    </tr>\n",
              "    <tr>\n",
              "      <th>Chemistry</th>\n",
              "      <td>55</td>\n",
              "      <td>7</td>\n",
              "      <td>7</td>\n",
              "    </tr>\n",
              "    <tr>\n",
              "      <th>Marine Science</th>\n",
              "      <td>51</td>\n",
              "      <td>6</td>\n",
              "      <td>7</td>\n",
              "    </tr>\n",
              "    <tr>\n",
              "      <th>Bioengineering and Biotechnology</th>\n",
              "      <td>45</td>\n",
              "      <td>5</td>\n",
              "      <td>6</td>\n",
              "    </tr>\n",
              "    <tr>\n",
              "      <th>Endocrinology</th>\n",
              "      <td>42</td>\n",
              "      <td>5</td>\n",
              "      <td>6</td>\n",
              "    </tr>\n",
              "    <tr>\n",
              "      <th>Cell and Developmental Biology</th>\n",
              "      <td>38</td>\n",
              "      <td>5</td>\n",
              "      <td>4</td>\n",
              "    </tr>\n",
              "    <tr>\n",
              "      <th>Cellular and Infection Microbiology</th>\n",
              "      <td>37</td>\n",
              "      <td>5</td>\n",
              "      <td>4</td>\n",
              "    </tr>\n",
              "    <tr>\n",
              "      <th>Veterinary Science</th>\n",
              "      <td>36</td>\n",
              "      <td>5</td>\n",
              "      <td>4</td>\n",
              "    </tr>\n",
              "    <tr>\n",
              "      <th>Medicine</th>\n",
              "      <td>35</td>\n",
              "      <td>4</td>\n",
              "      <td>5</td>\n",
              "    </tr>\n",
              "    <tr>\n",
              "      <th>Pediatrics</th>\n",
              "      <td>34</td>\n",
              "      <td>4</td>\n",
              "      <td>5</td>\n",
              "    </tr>\n",
              "    <tr>\n",
              "      <th>Physics</th>\n",
              "      <td>28</td>\n",
              "      <td>4</td>\n",
              "      <td>3</td>\n",
              "    </tr>\n",
              "    <tr>\n",
              "      <th>Ecology and Evolution</th>\n",
              "      <td>27</td>\n",
              "      <td>4</td>\n",
              "      <td>3</td>\n",
              "    </tr>\n",
              "    <tr>\n",
              "      <th>Aging Neuroscience</th>\n",
              "      <td>23</td>\n",
              "      <td>3</td>\n",
              "      <td>3</td>\n",
              "    </tr>\n",
              "    <tr>\n",
              "      <th>Public Health</th>\n",
              "      <td>23</td>\n",
              "      <td>3</td>\n",
              "      <td>3</td>\n",
              "    </tr>\n",
              "    <tr>\n",
              "      <th>Cellular Neuroscience</th>\n",
              "      <td>21</td>\n",
              "      <td>3</td>\n",
              "      <td>2</td>\n",
              "    </tr>\n",
              "    <tr>\n",
              "      <th>Earth Science</th>\n",
              "      <td>21</td>\n",
              "      <td>3</td>\n",
              "      <td>2</td>\n",
              "    </tr>\n",
              "  </tbody>\n",
              "</table>\n",
              "</div>\n",
              "      <button class=\"colab-df-convert\" onclick=\"convertToInteractive('df-2dc3ee3a-bd68-43f1-9135-e959bd86fe39')\"\n",
              "              title=\"Convert this dataframe to an interactive table.\"\n",
              "              style=\"display:none;\">\n",
              "        \n",
              "  <svg xmlns=\"http://www.w3.org/2000/svg\" height=\"24px\"viewBox=\"0 0 24 24\"\n",
              "       width=\"24px\">\n",
              "    <path d=\"M0 0h24v24H0V0z\" fill=\"none\"/>\n",
              "    <path d=\"M18.56 5.44l.94 2.06.94-2.06 2.06-.94-2.06-.94-.94-2.06-.94 2.06-2.06.94zm-11 1L8.5 8.5l.94-2.06 2.06-.94-2.06-.94L8.5 2.5l-.94 2.06-2.06.94zm10 10l.94 2.06.94-2.06 2.06-.94-2.06-.94-.94-2.06-.94 2.06-2.06.94z\"/><path d=\"M17.41 7.96l-1.37-1.37c-.4-.4-.92-.59-1.43-.59-.52 0-1.04.2-1.43.59L10.3 9.45l-7.72 7.72c-.78.78-.78 2.05 0 2.83L4 21.41c.39.39.9.59 1.41.59.51 0 1.02-.2 1.41-.59l7.78-7.78 2.81-2.81c.8-.78.8-2.07 0-2.86zM5.41 20L4 18.59l7.72-7.72 1.47 1.35L5.41 20z\"/>\n",
              "  </svg>\n",
              "      </button>\n",
              "      \n",
              "  <style>\n",
              "    .colab-df-container {\n",
              "      display:flex;\n",
              "      flex-wrap:wrap;\n",
              "      gap: 12px;\n",
              "    }\n",
              "\n",
              "    .colab-df-convert {\n",
              "      background-color: #E8F0FE;\n",
              "      border: none;\n",
              "      border-radius: 50%;\n",
              "      cursor: pointer;\n",
              "      display: none;\n",
              "      fill: #1967D2;\n",
              "      height: 32px;\n",
              "      padding: 0 0 0 0;\n",
              "      width: 32px;\n",
              "    }\n",
              "\n",
              "    .colab-df-convert:hover {\n",
              "      background-color: #E2EBFA;\n",
              "      box-shadow: 0px 1px 2px rgba(60, 64, 67, 0.3), 0px 1px 3px 1px rgba(60, 64, 67, 0.15);\n",
              "      fill: #174EA6;\n",
              "    }\n",
              "\n",
              "    [theme=dark] .colab-df-convert {\n",
              "      background-color: #3B4455;\n",
              "      fill: #D2E3FC;\n",
              "    }\n",
              "\n",
              "    [theme=dark] .colab-df-convert:hover {\n",
              "      background-color: #434B5C;\n",
              "      box-shadow: 0px 1px 3px 1px rgba(0, 0, 0, 0.15);\n",
              "      filter: drop-shadow(0px 1px 2px rgba(0, 0, 0, 0.3));\n",
              "      fill: #FFFFFF;\n",
              "    }\n",
              "  </style>\n",
              "\n",
              "      <script>\n",
              "        const buttonEl =\n",
              "          document.querySelector('#df-2dc3ee3a-bd68-43f1-9135-e959bd86fe39 button.colab-df-convert');\n",
              "        buttonEl.style.display =\n",
              "          google.colab.kernel.accessAllowed ? 'block' : 'none';\n",
              "\n",
              "        async function convertToInteractive(key) {\n",
              "          const element = document.querySelector('#df-2dc3ee3a-bd68-43f1-9135-e959bd86fe39');\n",
              "          const dataTable =\n",
              "            await google.colab.kernel.invokeFunction('convertToInteractive',\n",
              "                                                     [key], {});\n",
              "          if (!dataTable) return;\n",
              "\n",
              "          const docLinkHtml = 'Like what you see? Visit the ' +\n",
              "            '<a target=\"_blank\" href=https://colab.research.google.com/notebooks/data_table.ipynb>data table notebook</a>'\n",
              "            + ' to learn more about interactive tables.';\n",
              "          element.innerHTML = '';\n",
              "          dataTable['output_type'] = 'display_data';\n",
              "          await google.colab.output.renderOutput(dataTable, element);\n",
              "          const docLink = document.createElement('div');\n",
              "          docLink.innerHTML = docLinkHtml;\n",
              "          element.appendChild(docLink);\n",
              "        }\n",
              "      </script>\n",
              "    </div>\n",
              "  </div>\n",
              "  "
            ]
          },
          "metadata": {},
          "execution_count": 15
        }
      ]
    },
    {
      "cell_type": "markdown",
      "source": [
        "# Using an MNLI fine-tuned BERT model for zero-shot classification\n",
        "\n",
        "Saved and loaded the models to map the label2id"
      ],
      "metadata": {
        "id": "WbCeF1BNEv8a"
      }
    },
    {
      "cell_type": "code",
      "source": [
        "from transformers import AutoModelForSequenceClassification, AutoTokenizer\n",
        "\n",
        "# textattack/bert-base-uncased-MNLI model uses a different label2id mapping than the default mapping for original MNLI dataset, hence the label mappings was updated\n",
        "# https://github.com/QData/TextAttack/issues/684\n",
        "model = AutoModelForSequenceClassification.from_pretrained(\"textattack/bert-base-uncased-MNLI\", label2id={\"entailment\": 1,\"neutral\": 2,\"contradiction\": 0}) \n",
        "model.save_pretrained('/content/gdrive/MyDrive/BERT_MNLI')\n",
        "\n",
        "tokenizer = AutoTokenizer.from_pretrained(\"textattack/bert-base-uncased-MNLI\")\n",
        "tokenizer.save_pretrained('/content/gdrive/MyDrive/BERT_MNLI')"
      ],
      "metadata": {
        "colab": {
          "base_uri": "https://localhost:8080/",
          "height": 264,
          "referenced_widgets": [
            "b509193f95644bccbbadd9826cf2f43f",
            "ca964f98c223444485370388646ac7ad",
            "775e78fe8a9e40a0b24b4ffdf9637884",
            "106e570546ff4b3eb01175c5e4c11739",
            "9d48bf153d954c6c97bd9e6643c7318b",
            "3c17df9154d74878819bc8511d9ca325",
            "afc4fdf2f4824df696b59f7a4ea7abaf",
            "4d4f41253d604ce4862b689b78df922a",
            "bd0ea264fc1a4b378a6e87862f1e7e4e",
            "298cab0d23ed457cae4c7fd7fe0e6ee0",
            "97b8240021e8482b838cd074cb2d6b37",
            "ee9e0c55ba4c41d3bb9de3a94efb7784",
            "3372523509a740b4be89496affeca939",
            "ca0c31e3c9734fe2b11c4065da5cdca6",
            "7debb3905f864b95b12eb4e8b79a0dfd",
            "0338cf633897416c9243aaacbcbb991b",
            "8e6767b256d9475d84649e1664b7e5e3",
            "97dc5f9b008f4bd085be2d2662426a64",
            "7109680f52a4484188426ac94c879d1a",
            "2bf239152df84ee7893a27ebf73053c6",
            "8e6f4117c8144e2e8953ea161dfebc51",
            "1eb96fd3610940a89f1d1ee00415e01f",
            "813aeea3abea4b7bb4de59769d71e5eb",
            "7b6eeeb751cb44cab876b20cbb84697d",
            "3904750e978940e8933d8ce0c3df326f",
            "465738c4e9eb4dad9ecad5a5f1f8c214",
            "01b7478153d64a6ca7dc9e56e55a08dc",
            "b2fafc0a6ed44592a5128f0863ca46f0",
            "ef87f62a365e42bd8755a679073c063e",
            "7c6b7ccaa03049c58a4e9791e23aca81",
            "a81be750ab1f4c789b8637120df6e25e",
            "6b55da35d87e435f84f80e07e6dc00df",
            "bc96473c789e48d4b1cf630d4b2cba3b",
            "6b9c2287603d43a39d8044090319bb7c",
            "d09b158c7c6d48db9aa6936cc5bb35b7",
            "b7c74342d5a94254a5321c9ae9d377ca",
            "6a17f468d62349fe980704f4b683f433",
            "804529e92de84d4b8a70916e40e1d67f",
            "91ddd6cebfe64657a4c4447020f5acc0",
            "da473a94d7484917a98f27fc3e44779c",
            "712d8bb6c7be4911940b3edba609d1c2",
            "5daff1878f0948afaedaa44a5387ad1f",
            "c005b9377ddc4e43a38bba84a7aae066",
            "96c6b8c257ad421790ae5ea22b2f5d81",
            "0eaf9eda3bba4fa2846dca16c4c0653c",
            "425efe3e51b84a74944f915ad63bba4b",
            "39318629c15b452ebfcd1e7bd71c9304",
            "4aa4bf09c4544d03ab8a33cc80eb28c6",
            "69a19d19ed1e4b60a9edfb73621d5152",
            "0da5973e4bf148318db2821cbdf56534",
            "f4395f184efc40e2a60b2992d0b5679a",
            "c3da61d2008442bea830d4d26d8e53e3",
            "b76629796b3149f49abc29e0f1816688",
            "396f95fa5b304aee932e4a31ffb07b33",
            "058343d3b8ac461d83e8ea6dfa4f7414"
          ]
        },
        "id": "V7ES8-PVsjKn",
        "outputId": "17748192-5d62-4437-bb69-323265b92b84"
      },
      "execution_count": null,
      "outputs": [
        {
          "output_type": "display_data",
          "data": {
            "text/plain": [
              "Downloading:   0%|          | 0.00/630 [00:00<?, ?B/s]"
            ],
            "application/vnd.jupyter.widget-view+json": {
              "version_major": 2,
              "version_minor": 0,
              "model_id": "b509193f95644bccbbadd9826cf2f43f"
            }
          },
          "metadata": {}
        },
        {
          "output_type": "display_data",
          "data": {
            "text/plain": [
              "Downloading:   0%|          | 0.00/438M [00:00<?, ?B/s]"
            ],
            "application/vnd.jupyter.widget-view+json": {
              "version_major": 2,
              "version_minor": 0,
              "model_id": "ee9e0c55ba4c41d3bb9de3a94efb7784"
            }
          },
          "metadata": {}
        },
        {
          "output_type": "display_data",
          "data": {
            "text/plain": [
              "Downloading:   0%|          | 0.00/48.0 [00:00<?, ?B/s]"
            ],
            "application/vnd.jupyter.widget-view+json": {
              "version_major": 2,
              "version_minor": 0,
              "model_id": "813aeea3abea4b7bb4de59769d71e5eb"
            }
          },
          "metadata": {}
        },
        {
          "output_type": "display_data",
          "data": {
            "text/plain": [
              "Downloading:   0%|          | 0.00/232k [00:00<?, ?B/s]"
            ],
            "application/vnd.jupyter.widget-view+json": {
              "version_major": 2,
              "version_minor": 0,
              "model_id": "6b9c2287603d43a39d8044090319bb7c"
            }
          },
          "metadata": {}
        },
        {
          "output_type": "display_data",
          "data": {
            "text/plain": [
              "Downloading:   0%|          | 0.00/112 [00:00<?, ?B/s]"
            ],
            "application/vnd.jupyter.widget-view+json": {
              "version_major": 2,
              "version_minor": 0,
              "model_id": "0eaf9eda3bba4fa2846dca16c4c0653c"
            }
          },
          "metadata": {}
        },
        {
          "output_type": "execute_result",
          "data": {
            "text/plain": [
              "('/content/gdrive/MyDrive/BERT_MNLI/tokenizer_config.json',\n",
              " '/content/gdrive/MyDrive/BERT_MNLI/special_tokens_map.json',\n",
              " '/content/gdrive/MyDrive/BERT_MNLI/vocab.txt',\n",
              " '/content/gdrive/MyDrive/BERT_MNLI/added_tokens.json',\n",
              " '/content/gdrive/MyDrive/BERT_MNLI/tokenizer.json')"
            ]
          },
          "metadata": {},
          "execution_count": 16
        }
      ]
    },
    {
      "cell_type": "code",
      "source": [
        "from transformers import pipeline\n",
        "\n",
        "classifier_gpu = pipeline(\"zero-shot-classification\", device=0, model='/content/gdrive/MyDrive/BERT_MNLI') # to utilize GPU"
      ],
      "metadata": {
        "id": "cPBJxFy-XBp7"
      },
      "execution_count": null,
      "outputs": []
    },
    {
      "cell_type": "markdown",
      "source": [
        "# Split long text into chunks of size less than 512 (chosen 256)"
      ],
      "metadata": {
        "id": "RtcH-FuRRJR3"
      }
    },
    {
      "cell_type": "code",
      "source": [
        "def split_sequence(sequence):\n",
        "  tokens = tokenizer.tokenize(sequence)\n",
        "  chunks = [tokens[x:x+256] for x in range(0, len(tokens), 256)]\n",
        "  return [' '.join(x).replace('##', '') for x in chunks]"
      ],
      "metadata": {
        "id": "VcvKCk7st82-"
      },
      "execution_count": null,
      "outputs": []
    },
    {
      "cell_type": "code",
      "source": [
        "test_data_split = test_texts.apply(split_sequence)"
      ],
      "metadata": {
        "id": "kb-9rDMat80H",
        "colab": {
          "base_uri": "https://localhost:8080/"
        },
        "outputId": "3dcd7a5d-37dd-4fe4-9272-ff42ae8c942a"
      },
      "execution_count": null,
      "outputs": [
        {
          "output_type": "stream",
          "name": "stderr",
          "text": [
            "Token indices sequence length is longer than the specified maximum sequence length for this model (5846 > 512). Running this sequence through the model will result in indexing errors\n"
          ]
        }
      ]
    },
    {
      "cell_type": "code",
      "source": [
        "test_data_split.head()"
      ],
      "metadata": {
        "colab": {
          "base_uri": "https://localhost:8080/"
        },
        "id": "4wgGQ6N7Cpn7",
        "outputId": "47da9052-9241-4231-b3ee-38e0426360e8"
      },
      "execution_count": null,
      "outputs": [
        {
          "output_type": "execute_result",
          "data": {
            "text/plain": [
              "0    [respiratory mor bid ity and lung function ana...\n",
              "1    [flavor techniques for l f v processes : hi gg...\n",
              "2    [co rri gen du m : human milk ol igo sa cc har...\n",
              "3    [ob ses sive – com pu ls ive personality sympt...\n",
              "4    [blood - brain barrier and delivery of protein...\n",
              "Name: clean_text, dtype: object"
            ]
          },
          "metadata": {},
          "execution_count": 20
        }
      ]
    },
    {
      "cell_type": "markdown",
      "source": [
        "# Zero-shot classification with Hugging Face Pipeline"
      ],
      "metadata": {
        "id": "4LSZv4BdSpxm"
      }
    },
    {
      "cell_type": "markdown",
      "source": [
        "## Results when Classifier only considers FIRST 512 tokens (truncates sentence) of each TEST sample"
      ],
      "metadata": {
        "id": "TI26d_1RTI4z"
      }
    },
    {
      "cell_type": "code",
      "source": [
        "test_sequences = list(test_texts)    # NOT SPLIT TEST DATA\n",
        "\n",
        "candidate_labels = list(df.label.unique())\n",
        "\n",
        "results = classifier_gpu(test_sequences, candidate_labels, batch_size=1) # Sequence is a list of list of sentences, but classifier only takes first sentence from inner list\n",
        "# print(results)\n",
        "\n",
        "scores_df = pd.DataFrame(results, columns=['labels', 'scores'])"
      ],
      "metadata": {
        "id": "29iOYteATHw4"
      },
      "execution_count": null,
      "outputs": []
    },
    {
      "cell_type": "code",
      "source": [
        "pred_labels_512 = scores_df['labels'].apply(lambda x: x[0]) # The label with the highest score for each sample is the predicted label"
      ],
      "metadata": {
        "id": "WR-SrBuLTbAL"
      },
      "execution_count": null,
      "outputs": []
    },
    {
      "cell_type": "markdown",
      "source": [
        "### Accuracy score for Test Data, with default truncation to 512"
      ],
      "metadata": {
        "id": "97zk2a0NTq44"
      }
    },
    {
      "cell_type": "code",
      "source": [
        "accuracy_test_data_512 = accuracy_score(test_labels, pred_labels_512)\n",
        "f1_score_test_data_512 = f1_score(test_labels, pred_labels_512, average='macro')\n",
        "print(f'Test data with only first 512 tokens -> Accuracy: {accuracy_test_data_512*100:.2f}, F1_score: {f1_score_test_data_512*100:.2f}')"
      ],
      "metadata": {
        "colab": {
          "base_uri": "https://localhost:8080/"
        },
        "id": "KcF4OmjgTnBq",
        "outputId": "9826e60f-eaf6-4f92-cd40-ad4fd0e7621b"
      },
      "execution_count": null,
      "outputs": [
        {
          "output_type": "stream",
          "name": "stdout",
          "text": [
            "Test data with only first 512 tokens -> Accuracy: 35.14, F1_score: 34.77\n"
          ]
        }
      ]
    },
    {
      "cell_type": "markdown",
      "source": [
        "## For Entire long_text samples with default batch_size=8"
      ],
      "metadata": {
        "id": "Y_EX5Pu_S1xU"
      }
    },
    {
      "cell_type": "code",
      "source": [
        "# Create lists to store predicted labels\n",
        "pred_labels_count_list = []\n",
        "pred_labels_prob_list = []\n",
        "\n",
        "\n",
        "start = time.perf_counter()\n",
        "\n",
        "for ix, long_text in enumerate(test_data_split):\n",
        "\n",
        "  start_time = time.perf_counter()\n",
        "\n",
        "  print(f'Sample {ix}: True Label: {test_labels[ix]}')\n",
        "\n",
        "  prob_score_dict = dict.fromkeys(candidate_labels, 0)\n",
        "\n",
        "  result = classifier_gpu(long_text, candidate_labels, batch_size=8)\n",
        "  \n",
        "  for index in range(len(long_text)):\n",
        "    # Create a temporary dict for storing probability scores corresponding to each label, for each chunk\n",
        "    prob_score_chunk = dict(zip(result[index]['labels'], result[index]['scores']))\n",
        "    for label in prob_score_dict:\n",
        "      # Add and update probability score received for each chunk, to get overall score for the entire text sample\n",
        "      prob_score_dict[label] += prob_score_chunk[label]\n",
        "\n",
        "  max_prob_label = max(prob_score_dict, key=prob_score_dict.get)\n",
        "\n",
        "  # print('Predicted label based on highest probabilty score:', max_prob_label)\n",
        "  \n",
        "  score_df = pd.DataFrame(result, columns=['labels', 'scores'])\n",
        "\n",
        "  # Get the labels with highest score(one at index '0') (for each sub-sentence)\n",
        "  # Then get the label occuring first, the most time (chosen as the label for the main sentence)\n",
        "  most_count_label = score_df['labels'].apply(lambda x: x[0]).value_counts().index[0] \n",
        "  \n",
        "  # print('Predicted label based on most first occurence count:', most_count_label)\n",
        "  \n",
        "  pred_labels_count_list.append(most_count_label)\n",
        "  pred_labels_prob_list.append(max_prob_label)\n",
        "\n",
        "  stop_time = time.perf_counter() \n",
        "  # print(f'Run time for sample {ix}: {(stop_time - start_time):.2f}')\n",
        "\n",
        "stop = time.perf_counter()\n",
        "runtime = stop-start\n",
        "# print(f'Total run time: {runtime:.2f}')"
      ],
      "metadata": {
        "id": "PlKL_Dq5Sofl"
      },
      "execution_count": null,
      "outputs": []
    },
    {
      "cell_type": "markdown",
      "source": [
        "# Accuracy and F1 Score results for TEST Data"
      ],
      "metadata": {
        "id": "1CzlDiUuaGYc"
      }
    },
    {
      "cell_type": "code",
      "source": [
        "# Results for TEST Dataset with only first 512 tokens\n",
        "accuracy_test_data_512 = accuracy_score(test_labels, pred_labels_512)\n",
        "f1_score_test_data_512 = f1_score(test_labels, pred_labels_512, average='macro')\n",
        "print(f'Test data only first 512 -> Accuracy: {accuracy_test_data_512*100:.2f}, F1_score: {f1_score_test_data_512*100:.2f}')\n",
        "\n",
        "\n",
        "# pred_labels_count_list  # For ENTIRE long_text DATA\n",
        "accuracy_count = accuracy_score(test_labels, pred_labels_count_list)\n",
        "f1_score_count = f1_score(test_labels, pred_labels_count_list, average='macro')\n",
        "print(f'Test data long text (most first position count) -> Accuracy: {accuracy_count*100:.2f}, F1_score: {f1_score_count*100:.2f}')\n",
        "\n",
        "\n",
        "# pred_labels_count_list  # For ENTIRE long_text DATA\n",
        "\n",
        "accuracy_prob = accuracy_score(test_labels, pred_labels_prob_list)\n",
        "f1_score_prob = f1_score(test_labels, pred_labels_prob_list, average='macro')\n",
        "print(f'Test data long text (highest probability sum) -> Accuracy: {accuracy_prob*100:.2f}, F1_score: {f1_score_prob*100:.2f}')\n"
      ],
      "metadata": {
        "colab": {
          "base_uri": "https://localhost:8080/"
        },
        "id": "qmCoErUmtBvJ",
        "outputId": "ade6c3a6-8f3e-4dd4-f949-2e86a0d2d4f3"
      },
      "execution_count": null,
      "outputs": [
        {
          "output_type": "stream",
          "name": "stdout",
          "text": [
            "Test data only first 512 -> Accuracy: 35.14, F1_score: 34.77\n",
            "Test data long text (most first position count) -> Accuracy: 36.04, F1_score: 34.45\n",
            "Test data long text (highest probability sum) -> Accuracy: 41.44, F1_score: 39.71\n"
          ]
        }
      ]
    },
    {
      "cell_type": "code",
      "source": [
        "zero_shot_metrics_table_df = pd.DataFrame(data=([np.round(accuracy_test_data_512*100,2),\n",
        "                    np.round(f1_score_test_data_512*100,2)],\n",
        "                   [np.round(accuracy_count*100,2),\n",
        "                    np.round(f1_score_count*100,2)],\n",
        "                   [np.round(accuracy_prob*100,2),\n",
        "                    np.round(f1_score_prob*100,2)]), \n",
        "                    columns=['Accuracy', 'F1_score'], \n",
        "                    index=['Only first 512', 'Long text (most first position count)', 'Long text (highest probability sum)'])\n",
        "\n",
        "zero_shot_metrics_table_df"
      ],
      "metadata": {
        "colab": {
          "base_uri": "https://localhost:8080/",
          "height": 143
        },
        "id": "q5GVMbDOgKZg",
        "outputId": "dad975a0-5eab-434e-c978-766dc806f6b4"
      },
      "execution_count": null,
      "outputs": [
        {
          "output_type": "execute_result",
          "data": {
            "text/plain": [
              "                                       Accuracy  F1_score\n",
              "Only first 512                            35.14     34.77\n",
              "Long text (most first position count)     36.04     34.45\n",
              "Long text (highest probability sum)       41.44     39.71"
            ],
            "text/html": [
              "\n",
              "  <div id=\"df-f1faca30-9ef8-4a70-813b-8b5cab6467ef\">\n",
              "    <div class=\"colab-df-container\">\n",
              "      <div>\n",
              "<style scoped>\n",
              "    .dataframe tbody tr th:only-of-type {\n",
              "        vertical-align: middle;\n",
              "    }\n",
              "\n",
              "    .dataframe tbody tr th {\n",
              "        vertical-align: top;\n",
              "    }\n",
              "\n",
              "    .dataframe thead th {\n",
              "        text-align: right;\n",
              "    }\n",
              "</style>\n",
              "<table border=\"1\" class=\"dataframe\">\n",
              "  <thead>\n",
              "    <tr style=\"text-align: right;\">\n",
              "      <th></th>\n",
              "      <th>Accuracy</th>\n",
              "      <th>F1_score</th>\n",
              "    </tr>\n",
              "  </thead>\n",
              "  <tbody>\n",
              "    <tr>\n",
              "      <th>Only first 512</th>\n",
              "      <td>35.14</td>\n",
              "      <td>34.77</td>\n",
              "    </tr>\n",
              "    <tr>\n",
              "      <th>Long text (most first position count)</th>\n",
              "      <td>36.04</td>\n",
              "      <td>34.45</td>\n",
              "    </tr>\n",
              "    <tr>\n",
              "      <th>Long text (highest probability sum)</th>\n",
              "      <td>41.44</td>\n",
              "      <td>39.71</td>\n",
              "    </tr>\n",
              "  </tbody>\n",
              "</table>\n",
              "</div>\n",
              "      <button class=\"colab-df-convert\" onclick=\"convertToInteractive('df-f1faca30-9ef8-4a70-813b-8b5cab6467ef')\"\n",
              "              title=\"Convert this dataframe to an interactive table.\"\n",
              "              style=\"display:none;\">\n",
              "        \n",
              "  <svg xmlns=\"http://www.w3.org/2000/svg\" height=\"24px\"viewBox=\"0 0 24 24\"\n",
              "       width=\"24px\">\n",
              "    <path d=\"M0 0h24v24H0V0z\" fill=\"none\"/>\n",
              "    <path d=\"M18.56 5.44l.94 2.06.94-2.06 2.06-.94-2.06-.94-.94-2.06-.94 2.06-2.06.94zm-11 1L8.5 8.5l.94-2.06 2.06-.94-2.06-.94L8.5 2.5l-.94 2.06-2.06.94zm10 10l.94 2.06.94-2.06 2.06-.94-2.06-.94-.94-2.06-.94 2.06-2.06.94z\"/><path d=\"M17.41 7.96l-1.37-1.37c-.4-.4-.92-.59-1.43-.59-.52 0-1.04.2-1.43.59L10.3 9.45l-7.72 7.72c-.78.78-.78 2.05 0 2.83L4 21.41c.39.39.9.59 1.41.59.51 0 1.02-.2 1.41-.59l7.78-7.78 2.81-2.81c.8-.78.8-2.07 0-2.86zM5.41 20L4 18.59l7.72-7.72 1.47 1.35L5.41 20z\"/>\n",
              "  </svg>\n",
              "      </button>\n",
              "      \n",
              "  <style>\n",
              "    .colab-df-container {\n",
              "      display:flex;\n",
              "      flex-wrap:wrap;\n",
              "      gap: 12px;\n",
              "    }\n",
              "\n",
              "    .colab-df-convert {\n",
              "      background-color: #E8F0FE;\n",
              "      border: none;\n",
              "      border-radius: 50%;\n",
              "      cursor: pointer;\n",
              "      display: none;\n",
              "      fill: #1967D2;\n",
              "      height: 32px;\n",
              "      padding: 0 0 0 0;\n",
              "      width: 32px;\n",
              "    }\n",
              "\n",
              "    .colab-df-convert:hover {\n",
              "      background-color: #E2EBFA;\n",
              "      box-shadow: 0px 1px 2px rgba(60, 64, 67, 0.3), 0px 1px 3px 1px rgba(60, 64, 67, 0.15);\n",
              "      fill: #174EA6;\n",
              "    }\n",
              "\n",
              "    [theme=dark] .colab-df-convert {\n",
              "      background-color: #3B4455;\n",
              "      fill: #D2E3FC;\n",
              "    }\n",
              "\n",
              "    [theme=dark] .colab-df-convert:hover {\n",
              "      background-color: #434B5C;\n",
              "      box-shadow: 0px 1px 3px 1px rgba(0, 0, 0, 0.15);\n",
              "      filter: drop-shadow(0px 1px 2px rgba(0, 0, 0, 0.3));\n",
              "      fill: #FFFFFF;\n",
              "    }\n",
              "  </style>\n",
              "\n",
              "      <script>\n",
              "        const buttonEl =\n",
              "          document.querySelector('#df-f1faca30-9ef8-4a70-813b-8b5cab6467ef button.colab-df-convert');\n",
              "        buttonEl.style.display =\n",
              "          google.colab.kernel.accessAllowed ? 'block' : 'none';\n",
              "\n",
              "        async function convertToInteractive(key) {\n",
              "          const element = document.querySelector('#df-f1faca30-9ef8-4a70-813b-8b5cab6467ef');\n",
              "          const dataTable =\n",
              "            await google.colab.kernel.invokeFunction('convertToInteractive',\n",
              "                                                     [key], {});\n",
              "          if (!dataTable) return;\n",
              "\n",
              "          const docLinkHtml = 'Like what you see? Visit the ' +\n",
              "            '<a target=\"_blank\" href=https://colab.research.google.com/notebooks/data_table.ipynb>data table notebook</a>'\n",
              "            + ' to learn more about interactive tables.';\n",
              "          element.innerHTML = '';\n",
              "          dataTable['output_type'] = 'display_data';\n",
              "          await google.colab.output.renderOutput(dataTable, element);\n",
              "          const docLink = document.createElement('div');\n",
              "          docLink.innerHTML = docLinkHtml;\n",
              "          element.appendChild(docLink);\n",
              "        }\n",
              "      </script>\n",
              "    </div>\n",
              "  </div>\n",
              "  "
            ]
          },
          "metadata": {},
          "execution_count": 32
        }
      ]
    },
    {
      "cell_type": "code",
      "source": [
        "test_data_results_df = pd.DataFrame([test_texts, test_labels, \n",
        "                                     np.array(pred_labels_count_list), np.array(pred_labels_prob_list), pred_labels_512],\n",
        "                                     index=['text', 'true_label', 'pred_label_count', 'pred_label_prob', 'pred_label_512']).T\n",
        "test_data_results_df.head()"
      ],
      "metadata": {
        "id": "jc1NNLF9eXVD",
        "colab": {
          "base_uri": "https://localhost:8080/",
          "height": 206
        },
        "outputId": "da0a405e-4797-446a-dc5c-328d47ae3ed0"
      },
      "execution_count": null,
      "outputs": [
        {
          "output_type": "execute_result",
          "data": {
            "text/plain": [
              "                                                text          true_label  \\\n",
              "0  respiratory morbidity and lung function analys...          Pediatrics   \n",
              "1  flavor techniques for lfv processes: higgs dec...             Physics   \n",
              "2  corrigendum: human milk oligosaccharide compos...          Pediatrics   \n",
              "3  obsessive–compulsive personality symptoms pred...          Psychiatry   \n",
              "4  blood-brain barrier and delivery of protein an...  Aging Neuroscience   \n",
              "\n",
              "  pred_label_count pred_label_prob                       pred_label_512  \n",
              "0       Physiology        Medicine  Cellular and Infection Microbiology  \n",
              "1    Endocrinology   Endocrinology                              Physics  \n",
              "2    Endocrinology      Pediatrics                           Pediatrics  \n",
              "3       Psychiatry      Psychiatry                            Neurology  \n",
              "4    Endocrinology   Endocrinology     Bioengineering and Biotechnology  "
            ],
            "text/html": [
              "\n",
              "  <div id=\"df-6808d062-d3d7-436e-a766-8ed9d84dd7e2\">\n",
              "    <div class=\"colab-df-container\">\n",
              "      <div>\n",
              "<style scoped>\n",
              "    .dataframe tbody tr th:only-of-type {\n",
              "        vertical-align: middle;\n",
              "    }\n",
              "\n",
              "    .dataframe tbody tr th {\n",
              "        vertical-align: top;\n",
              "    }\n",
              "\n",
              "    .dataframe thead th {\n",
              "        text-align: right;\n",
              "    }\n",
              "</style>\n",
              "<table border=\"1\" class=\"dataframe\">\n",
              "  <thead>\n",
              "    <tr style=\"text-align: right;\">\n",
              "      <th></th>\n",
              "      <th>text</th>\n",
              "      <th>true_label</th>\n",
              "      <th>pred_label_count</th>\n",
              "      <th>pred_label_prob</th>\n",
              "      <th>pred_label_512</th>\n",
              "    </tr>\n",
              "  </thead>\n",
              "  <tbody>\n",
              "    <tr>\n",
              "      <th>0</th>\n",
              "      <td>respiratory morbidity and lung function analys...</td>\n",
              "      <td>Pediatrics</td>\n",
              "      <td>Physiology</td>\n",
              "      <td>Medicine</td>\n",
              "      <td>Cellular and Infection Microbiology</td>\n",
              "    </tr>\n",
              "    <tr>\n",
              "      <th>1</th>\n",
              "      <td>flavor techniques for lfv processes: higgs dec...</td>\n",
              "      <td>Physics</td>\n",
              "      <td>Endocrinology</td>\n",
              "      <td>Endocrinology</td>\n",
              "      <td>Physics</td>\n",
              "    </tr>\n",
              "    <tr>\n",
              "      <th>2</th>\n",
              "      <td>corrigendum: human milk oligosaccharide compos...</td>\n",
              "      <td>Pediatrics</td>\n",
              "      <td>Endocrinology</td>\n",
              "      <td>Pediatrics</td>\n",
              "      <td>Pediatrics</td>\n",
              "    </tr>\n",
              "    <tr>\n",
              "      <th>3</th>\n",
              "      <td>obsessive–compulsive personality symptoms pred...</td>\n",
              "      <td>Psychiatry</td>\n",
              "      <td>Psychiatry</td>\n",
              "      <td>Psychiatry</td>\n",
              "      <td>Neurology</td>\n",
              "    </tr>\n",
              "    <tr>\n",
              "      <th>4</th>\n",
              "      <td>blood-brain barrier and delivery of protein an...</td>\n",
              "      <td>Aging Neuroscience</td>\n",
              "      <td>Endocrinology</td>\n",
              "      <td>Endocrinology</td>\n",
              "      <td>Bioengineering and Biotechnology</td>\n",
              "    </tr>\n",
              "  </tbody>\n",
              "</table>\n",
              "</div>\n",
              "      <button class=\"colab-df-convert\" onclick=\"convertToInteractive('df-6808d062-d3d7-436e-a766-8ed9d84dd7e2')\"\n",
              "              title=\"Convert this dataframe to an interactive table.\"\n",
              "              style=\"display:none;\">\n",
              "        \n",
              "  <svg xmlns=\"http://www.w3.org/2000/svg\" height=\"24px\"viewBox=\"0 0 24 24\"\n",
              "       width=\"24px\">\n",
              "    <path d=\"M0 0h24v24H0V0z\" fill=\"none\"/>\n",
              "    <path d=\"M18.56 5.44l.94 2.06.94-2.06 2.06-.94-2.06-.94-.94-2.06-.94 2.06-2.06.94zm-11 1L8.5 8.5l.94-2.06 2.06-.94-2.06-.94L8.5 2.5l-.94 2.06-2.06.94zm10 10l.94 2.06.94-2.06 2.06-.94-2.06-.94-.94-2.06-.94 2.06-2.06.94z\"/><path d=\"M17.41 7.96l-1.37-1.37c-.4-.4-.92-.59-1.43-.59-.52 0-1.04.2-1.43.59L10.3 9.45l-7.72 7.72c-.78.78-.78 2.05 0 2.83L4 21.41c.39.39.9.59 1.41.59.51 0 1.02-.2 1.41-.59l7.78-7.78 2.81-2.81c.8-.78.8-2.07 0-2.86zM5.41 20L4 18.59l7.72-7.72 1.47 1.35L5.41 20z\"/>\n",
              "  </svg>\n",
              "      </button>\n",
              "      \n",
              "  <style>\n",
              "    .colab-df-container {\n",
              "      display:flex;\n",
              "      flex-wrap:wrap;\n",
              "      gap: 12px;\n",
              "    }\n",
              "\n",
              "    .colab-df-convert {\n",
              "      background-color: #E8F0FE;\n",
              "      border: none;\n",
              "      border-radius: 50%;\n",
              "      cursor: pointer;\n",
              "      display: none;\n",
              "      fill: #1967D2;\n",
              "      height: 32px;\n",
              "      padding: 0 0 0 0;\n",
              "      width: 32px;\n",
              "    }\n",
              "\n",
              "    .colab-df-convert:hover {\n",
              "      background-color: #E2EBFA;\n",
              "      box-shadow: 0px 1px 2px rgba(60, 64, 67, 0.3), 0px 1px 3px 1px rgba(60, 64, 67, 0.15);\n",
              "      fill: #174EA6;\n",
              "    }\n",
              "\n",
              "    [theme=dark] .colab-df-convert {\n",
              "      background-color: #3B4455;\n",
              "      fill: #D2E3FC;\n",
              "    }\n",
              "\n",
              "    [theme=dark] .colab-df-convert:hover {\n",
              "      background-color: #434B5C;\n",
              "      box-shadow: 0px 1px 3px 1px rgba(0, 0, 0, 0.15);\n",
              "      filter: drop-shadow(0px 1px 2px rgba(0, 0, 0, 0.3));\n",
              "      fill: #FFFFFF;\n",
              "    }\n",
              "  </style>\n",
              "\n",
              "      <script>\n",
              "        const buttonEl =\n",
              "          document.querySelector('#df-6808d062-d3d7-436e-a766-8ed9d84dd7e2 button.colab-df-convert');\n",
              "        buttonEl.style.display =\n",
              "          google.colab.kernel.accessAllowed ? 'block' : 'none';\n",
              "\n",
              "        async function convertToInteractive(key) {\n",
              "          const element = document.querySelector('#df-6808d062-d3d7-436e-a766-8ed9d84dd7e2');\n",
              "          const dataTable =\n",
              "            await google.colab.kernel.invokeFunction('convertToInteractive',\n",
              "                                                     [key], {});\n",
              "          if (!dataTable) return;\n",
              "\n",
              "          const docLinkHtml = 'Like what you see? Visit the ' +\n",
              "            '<a target=\"_blank\" href=https://colab.research.google.com/notebooks/data_table.ipynb>data table notebook</a>'\n",
              "            + ' to learn more about interactive tables.';\n",
              "          element.innerHTML = '';\n",
              "          dataTable['output_type'] = 'display_data';\n",
              "          await google.colab.output.renderOutput(dataTable, element);\n",
              "          const docLink = document.createElement('div');\n",
              "          docLink.innerHTML = docLinkHtml;\n",
              "          element.appendChild(docLink);\n",
              "        }\n",
              "      </script>\n",
              "    </div>\n",
              "  </div>\n",
              "  "
            ]
          },
          "metadata": {},
          "execution_count": 34
        }
      ]
    },
    {
      "cell_type": "code",
      "source": [],
      "metadata": {
        "id": "wp_3dLnVEJjE"
      },
      "execution_count": null,
      "outputs": []
    },
    {
      "cell_type": "markdown",
      "source": [
        "# Zero-shot Classification without Hugging Face pipeline"
      ],
      "metadata": {
        "id": "tQODpMEERxaV"
      }
    },
    {
      "cell_type": "code",
      "source": [
        "import torch\n",
        "\n",
        "device = 'cuda' if torch.cuda.is_available() else 'cpu'\n",
        "device"
      ],
      "metadata": {
        "colab": {
          "base_uri": "https://localhost:8080/",
          "height": 35
        },
        "id": "g3rhSL-2eXRl",
        "outputId": "bd2a1370-cd75-4f1f-d511-f0be1559f142"
      },
      "execution_count": null,
      "outputs": [
        {
          "output_type": "execute_result",
          "data": {
            "text/plain": [
              "'cuda'"
            ],
            "application/vnd.google.colaboratory.intrinsic+json": {
              "type": "string"
            }
          },
          "metadata": {},
          "execution_count": 37
        }
      ]
    },
    {
      "cell_type": "code",
      "source": [
        "# pose sequence as a NLI premise and label as a hypothesis\n",
        "from transformers import AutoModelForSequenceClassification, AutoTokenizer\n",
        "nli_model = AutoModelForSequenceClassification.from_pretrained('/content/gdrive/MyDrive/BERT_MNLI').to(device)\n",
        "\n",
        "tokenizer = AutoTokenizer.from_pretrained('/content/gdrive/MyDrive/BERT_MNLI')"
      ],
      "metadata": {
        "id": "uJRN3sxleXOL"
      },
      "execution_count": null,
      "outputs": []
    },
    {
      "cell_type": "code",
      "source": [
        "nli_model.eval()\n",
        "\n",
        "predicted_label_prob_list = []\n",
        "predicted_label_count_list = []\n",
        "\n",
        "for index, sample in enumerate(test_data_split):\n",
        "# for sample in test_data_split:\n",
        "\n",
        "  # print(sample)\n",
        "  pred_dict_prob_sample = dict.fromkeys(candidate_labels, 0)\n",
        "  pred_dict_count_sample = dict.fromkeys(candidate_labels, 0)\n",
        "\n",
        "  for text_chunk in sample:\n",
        "    # print(text_chunk)\n",
        "    prob_score_chunk = dict.fromkeys(candidate_labels, 0)\n",
        "    for label in candidate_labels:\n",
        "\n",
        "      premise = text_chunk\n",
        "      hypothesis = f'This example is {label}.'\n",
        "\n",
        "      # run through model pre-trained on MNLI\n",
        "      x = tokenizer.encode(premise, hypothesis, return_tensors='pt',\n",
        "                     truncation='only_first')\n",
        "\n",
        "      logits = nli_model(x.to(device))[0]\n",
        "\n",
        "      # we throw away \"neutral\" (dim 1) and take the probability of\n",
        "      # \"entailment\" (2) as the probability of the label being true \n",
        "      entail_contradiction_logits = logits[:,[0,2]]\n",
        "      probs = entail_contradiction_logits.softmax(dim=1)\n",
        "      prob_label_is_true = probs[:,1]\n",
        "\n",
        "      # For each candidate label store its (entailment) probabilty score, for the text chunk\n",
        "      prob_score_chunk[label] = prob_label_is_true.detach().cpu().numpy()[0]\n",
        "\n",
        "      # Accumulate the probabilty scores for each label, for entire sample\n",
        "      pred_dict_prob_sample[label] += prob_score_chunk[label]\n",
        "\n",
        "    # Get the label with the highest probability score, and increase its occurrence count by 1\n",
        "    pred_dict_count_sample[max(prob_score_chunk, key=prob_score_chunk.get)] += 1\n",
        "\n",
        "  # Most predicted label for each sample is stored in a list \n",
        "  predicted_label_count_list.append(max(pred_dict_count_sample, key=pred_dict_count_sample.get))\n",
        "  # print(max(pred_dict_count_sample, key=pred_dict_count_sample.get))\n",
        "\n",
        "  # Label with highest accumulated probability score for each sample is stored in a list\n",
        "  predicted_label_prob_list.append(max(pred_dict_prob_sample, key=pred_dict_prob_sample.get))"
      ],
      "metadata": {
        "id": "laA7Ch31h382"
      },
      "execution_count": null,
      "outputs": []
    },
    {
      "cell_type": "code",
      "source": [
        "# pred_labels_count_list  # For ENTIRE long_text DATA\n",
        "accuracy_count = accuracy_score(test_labels, predicted_label_count_list)\n",
        "f1_score_count = f1_score(test_labels, predicted_label_count_list, average='macro')\n",
        "print(f'Test data long text (most first position count) -> Accuracy: {accuracy_count*100:.2f}, F1_score: {f1_score_count*100:.2f}')\n",
        "\n",
        "\n",
        "# pred_labels_count_list  # For ENTIRE long_text DATA\n",
        "\n",
        "accuracy_prob = accuracy_score(test_labels, predicted_label_prob_list)\n",
        "f1_score_prob = f1_score(test_labels, predicted_label_prob_list, average='macro')\n",
        "print(f'Test data long text (highest probability sum) -> Accuracy: {accuracy_prob*100:.2f}, F1_score: {f1_score_prob*100:.2f}')"
      ],
      "metadata": {
        "id": "zZLvv056kbOV"
      },
      "execution_count": null,
      "outputs": []
    }
  ],
  "metadata": {
    "colab": {
      "provenance": [],
      "collapsed_sections": [],
      "machine_shape": "hm",
      "include_colab_link": true
    },
    "kernelspec": {
      "display_name": "Python 3",
      "name": "python3"
    },
    "language_info": {
      "name": "python"
    },
    "gpuClass": "standard",
    "accelerator": "GPU",
    "widgets": {
      "application/vnd.jupyter.widget-state+json": {
        "b509193f95644bccbbadd9826cf2f43f": {
          "model_module": "@jupyter-widgets/controls",
          "model_name": "HBoxModel",
          "model_module_version": "1.5.0",
          "state": {
            "_dom_classes": [],
            "_model_module": "@jupyter-widgets/controls",
            "_model_module_version": "1.5.0",
            "_model_name": "HBoxModel",
            "_view_count": null,
            "_view_module": "@jupyter-widgets/controls",
            "_view_module_version": "1.5.0",
            "_view_name": "HBoxView",
            "box_style": "",
            "children": [
              "IPY_MODEL_ca964f98c223444485370388646ac7ad",
              "IPY_MODEL_775e78fe8a9e40a0b24b4ffdf9637884",
              "IPY_MODEL_106e570546ff4b3eb01175c5e4c11739"
            ],
            "layout": "IPY_MODEL_9d48bf153d954c6c97bd9e6643c7318b"
          }
        },
        "ca964f98c223444485370388646ac7ad": {
          "model_module": "@jupyter-widgets/controls",
          "model_name": "HTMLModel",
          "model_module_version": "1.5.0",
          "state": {
            "_dom_classes": [],
            "_model_module": "@jupyter-widgets/controls",
            "_model_module_version": "1.5.0",
            "_model_name": "HTMLModel",
            "_view_count": null,
            "_view_module": "@jupyter-widgets/controls",
            "_view_module_version": "1.5.0",
            "_view_name": "HTMLView",
            "description": "",
            "description_tooltip": null,
            "layout": "IPY_MODEL_3c17df9154d74878819bc8511d9ca325",
            "placeholder": "​",
            "style": "IPY_MODEL_afc4fdf2f4824df696b59f7a4ea7abaf",
            "value": "Downloading: 100%"
          }
        },
        "775e78fe8a9e40a0b24b4ffdf9637884": {
          "model_module": "@jupyter-widgets/controls",
          "model_name": "FloatProgressModel",
          "model_module_version": "1.5.0",
          "state": {
            "_dom_classes": [],
            "_model_module": "@jupyter-widgets/controls",
            "_model_module_version": "1.5.0",
            "_model_name": "FloatProgressModel",
            "_view_count": null,
            "_view_module": "@jupyter-widgets/controls",
            "_view_module_version": "1.5.0",
            "_view_name": "ProgressView",
            "bar_style": "success",
            "description": "",
            "description_tooltip": null,
            "layout": "IPY_MODEL_4d4f41253d604ce4862b689b78df922a",
            "max": 630,
            "min": 0,
            "orientation": "horizontal",
            "style": "IPY_MODEL_bd0ea264fc1a4b378a6e87862f1e7e4e",
            "value": 630
          }
        },
        "106e570546ff4b3eb01175c5e4c11739": {
          "model_module": "@jupyter-widgets/controls",
          "model_name": "HTMLModel",
          "model_module_version": "1.5.0",
          "state": {
            "_dom_classes": [],
            "_model_module": "@jupyter-widgets/controls",
            "_model_module_version": "1.5.0",
            "_model_name": "HTMLModel",
            "_view_count": null,
            "_view_module": "@jupyter-widgets/controls",
            "_view_module_version": "1.5.0",
            "_view_name": "HTMLView",
            "description": "",
            "description_tooltip": null,
            "layout": "IPY_MODEL_298cab0d23ed457cae4c7fd7fe0e6ee0",
            "placeholder": "​",
            "style": "IPY_MODEL_97b8240021e8482b838cd074cb2d6b37",
            "value": " 630/630 [00:00&lt;00:00, 23.6kB/s]"
          }
        },
        "9d48bf153d954c6c97bd9e6643c7318b": {
          "model_module": "@jupyter-widgets/base",
          "model_name": "LayoutModel",
          "model_module_version": "1.2.0",
          "state": {
            "_model_module": "@jupyter-widgets/base",
            "_model_module_version": "1.2.0",
            "_model_name": "LayoutModel",
            "_view_count": null,
            "_view_module": "@jupyter-widgets/base",
            "_view_module_version": "1.2.0",
            "_view_name": "LayoutView",
            "align_content": null,
            "align_items": null,
            "align_self": null,
            "border": null,
            "bottom": null,
            "display": null,
            "flex": null,
            "flex_flow": null,
            "grid_area": null,
            "grid_auto_columns": null,
            "grid_auto_flow": null,
            "grid_auto_rows": null,
            "grid_column": null,
            "grid_gap": null,
            "grid_row": null,
            "grid_template_areas": null,
            "grid_template_columns": null,
            "grid_template_rows": null,
            "height": null,
            "justify_content": null,
            "justify_items": null,
            "left": null,
            "margin": null,
            "max_height": null,
            "max_width": null,
            "min_height": null,
            "min_width": null,
            "object_fit": null,
            "object_position": null,
            "order": null,
            "overflow": null,
            "overflow_x": null,
            "overflow_y": null,
            "padding": null,
            "right": null,
            "top": null,
            "visibility": null,
            "width": null
          }
        },
        "3c17df9154d74878819bc8511d9ca325": {
          "model_module": "@jupyter-widgets/base",
          "model_name": "LayoutModel",
          "model_module_version": "1.2.0",
          "state": {
            "_model_module": "@jupyter-widgets/base",
            "_model_module_version": "1.2.0",
            "_model_name": "LayoutModel",
            "_view_count": null,
            "_view_module": "@jupyter-widgets/base",
            "_view_module_version": "1.2.0",
            "_view_name": "LayoutView",
            "align_content": null,
            "align_items": null,
            "align_self": null,
            "border": null,
            "bottom": null,
            "display": null,
            "flex": null,
            "flex_flow": null,
            "grid_area": null,
            "grid_auto_columns": null,
            "grid_auto_flow": null,
            "grid_auto_rows": null,
            "grid_column": null,
            "grid_gap": null,
            "grid_row": null,
            "grid_template_areas": null,
            "grid_template_columns": null,
            "grid_template_rows": null,
            "height": null,
            "justify_content": null,
            "justify_items": null,
            "left": null,
            "margin": null,
            "max_height": null,
            "max_width": null,
            "min_height": null,
            "min_width": null,
            "object_fit": null,
            "object_position": null,
            "order": null,
            "overflow": null,
            "overflow_x": null,
            "overflow_y": null,
            "padding": null,
            "right": null,
            "top": null,
            "visibility": null,
            "width": null
          }
        },
        "afc4fdf2f4824df696b59f7a4ea7abaf": {
          "model_module": "@jupyter-widgets/controls",
          "model_name": "DescriptionStyleModel",
          "model_module_version": "1.5.0",
          "state": {
            "_model_module": "@jupyter-widgets/controls",
            "_model_module_version": "1.5.0",
            "_model_name": "DescriptionStyleModel",
            "_view_count": null,
            "_view_module": "@jupyter-widgets/base",
            "_view_module_version": "1.2.0",
            "_view_name": "StyleView",
            "description_width": ""
          }
        },
        "4d4f41253d604ce4862b689b78df922a": {
          "model_module": "@jupyter-widgets/base",
          "model_name": "LayoutModel",
          "model_module_version": "1.2.0",
          "state": {
            "_model_module": "@jupyter-widgets/base",
            "_model_module_version": "1.2.0",
            "_model_name": "LayoutModel",
            "_view_count": null,
            "_view_module": "@jupyter-widgets/base",
            "_view_module_version": "1.2.0",
            "_view_name": "LayoutView",
            "align_content": null,
            "align_items": null,
            "align_self": null,
            "border": null,
            "bottom": null,
            "display": null,
            "flex": null,
            "flex_flow": null,
            "grid_area": null,
            "grid_auto_columns": null,
            "grid_auto_flow": null,
            "grid_auto_rows": null,
            "grid_column": null,
            "grid_gap": null,
            "grid_row": null,
            "grid_template_areas": null,
            "grid_template_columns": null,
            "grid_template_rows": null,
            "height": null,
            "justify_content": null,
            "justify_items": null,
            "left": null,
            "margin": null,
            "max_height": null,
            "max_width": null,
            "min_height": null,
            "min_width": null,
            "object_fit": null,
            "object_position": null,
            "order": null,
            "overflow": null,
            "overflow_x": null,
            "overflow_y": null,
            "padding": null,
            "right": null,
            "top": null,
            "visibility": null,
            "width": null
          }
        },
        "bd0ea264fc1a4b378a6e87862f1e7e4e": {
          "model_module": "@jupyter-widgets/controls",
          "model_name": "ProgressStyleModel",
          "model_module_version": "1.5.0",
          "state": {
            "_model_module": "@jupyter-widgets/controls",
            "_model_module_version": "1.5.0",
            "_model_name": "ProgressStyleModel",
            "_view_count": null,
            "_view_module": "@jupyter-widgets/base",
            "_view_module_version": "1.2.0",
            "_view_name": "StyleView",
            "bar_color": null,
            "description_width": ""
          }
        },
        "298cab0d23ed457cae4c7fd7fe0e6ee0": {
          "model_module": "@jupyter-widgets/base",
          "model_name": "LayoutModel",
          "model_module_version": "1.2.0",
          "state": {
            "_model_module": "@jupyter-widgets/base",
            "_model_module_version": "1.2.0",
            "_model_name": "LayoutModel",
            "_view_count": null,
            "_view_module": "@jupyter-widgets/base",
            "_view_module_version": "1.2.0",
            "_view_name": "LayoutView",
            "align_content": null,
            "align_items": null,
            "align_self": null,
            "border": null,
            "bottom": null,
            "display": null,
            "flex": null,
            "flex_flow": null,
            "grid_area": null,
            "grid_auto_columns": null,
            "grid_auto_flow": null,
            "grid_auto_rows": null,
            "grid_column": null,
            "grid_gap": null,
            "grid_row": null,
            "grid_template_areas": null,
            "grid_template_columns": null,
            "grid_template_rows": null,
            "height": null,
            "justify_content": null,
            "justify_items": null,
            "left": null,
            "margin": null,
            "max_height": null,
            "max_width": null,
            "min_height": null,
            "min_width": null,
            "object_fit": null,
            "object_position": null,
            "order": null,
            "overflow": null,
            "overflow_x": null,
            "overflow_y": null,
            "padding": null,
            "right": null,
            "top": null,
            "visibility": null,
            "width": null
          }
        },
        "97b8240021e8482b838cd074cb2d6b37": {
          "model_module": "@jupyter-widgets/controls",
          "model_name": "DescriptionStyleModel",
          "model_module_version": "1.5.0",
          "state": {
            "_model_module": "@jupyter-widgets/controls",
            "_model_module_version": "1.5.0",
            "_model_name": "DescriptionStyleModel",
            "_view_count": null,
            "_view_module": "@jupyter-widgets/base",
            "_view_module_version": "1.2.0",
            "_view_name": "StyleView",
            "description_width": ""
          }
        },
        "ee9e0c55ba4c41d3bb9de3a94efb7784": {
          "model_module": "@jupyter-widgets/controls",
          "model_name": "HBoxModel",
          "model_module_version": "1.5.0",
          "state": {
            "_dom_classes": [],
            "_model_module": "@jupyter-widgets/controls",
            "_model_module_version": "1.5.0",
            "_model_name": "HBoxModel",
            "_view_count": null,
            "_view_module": "@jupyter-widgets/controls",
            "_view_module_version": "1.5.0",
            "_view_name": "HBoxView",
            "box_style": "",
            "children": [
              "IPY_MODEL_3372523509a740b4be89496affeca939",
              "IPY_MODEL_ca0c31e3c9734fe2b11c4065da5cdca6",
              "IPY_MODEL_7debb3905f864b95b12eb4e8b79a0dfd"
            ],
            "layout": "IPY_MODEL_0338cf633897416c9243aaacbcbb991b"
          }
        },
        "3372523509a740b4be89496affeca939": {
          "model_module": "@jupyter-widgets/controls",
          "model_name": "HTMLModel",
          "model_module_version": "1.5.0",
          "state": {
            "_dom_classes": [],
            "_model_module": "@jupyter-widgets/controls",
            "_model_module_version": "1.5.0",
            "_model_name": "HTMLModel",
            "_view_count": null,
            "_view_module": "@jupyter-widgets/controls",
            "_view_module_version": "1.5.0",
            "_view_name": "HTMLView",
            "description": "",
            "description_tooltip": null,
            "layout": "IPY_MODEL_8e6767b256d9475d84649e1664b7e5e3",
            "placeholder": "​",
            "style": "IPY_MODEL_97dc5f9b008f4bd085be2d2662426a64",
            "value": "Downloading: 100%"
          }
        },
        "ca0c31e3c9734fe2b11c4065da5cdca6": {
          "model_module": "@jupyter-widgets/controls",
          "model_name": "FloatProgressModel",
          "model_module_version": "1.5.0",
          "state": {
            "_dom_classes": [],
            "_model_module": "@jupyter-widgets/controls",
            "_model_module_version": "1.5.0",
            "_model_name": "FloatProgressModel",
            "_view_count": null,
            "_view_module": "@jupyter-widgets/controls",
            "_view_module_version": "1.5.0",
            "_view_name": "ProgressView",
            "bar_style": "success",
            "description": "",
            "description_tooltip": null,
            "layout": "IPY_MODEL_7109680f52a4484188426ac94c879d1a",
            "max": 437988463,
            "min": 0,
            "orientation": "horizontal",
            "style": "IPY_MODEL_2bf239152df84ee7893a27ebf73053c6",
            "value": 437988463
          }
        },
        "7debb3905f864b95b12eb4e8b79a0dfd": {
          "model_module": "@jupyter-widgets/controls",
          "model_name": "HTMLModel",
          "model_module_version": "1.5.0",
          "state": {
            "_dom_classes": [],
            "_model_module": "@jupyter-widgets/controls",
            "_model_module_version": "1.5.0",
            "_model_name": "HTMLModel",
            "_view_count": null,
            "_view_module": "@jupyter-widgets/controls",
            "_view_module_version": "1.5.0",
            "_view_name": "HTMLView",
            "description": "",
            "description_tooltip": null,
            "layout": "IPY_MODEL_8e6f4117c8144e2e8953ea161dfebc51",
            "placeholder": "​",
            "style": "IPY_MODEL_1eb96fd3610940a89f1d1ee00415e01f",
            "value": " 438M/438M [00:22&lt;00:00, 20.0MB/s]"
          }
        },
        "0338cf633897416c9243aaacbcbb991b": {
          "model_module": "@jupyter-widgets/base",
          "model_name": "LayoutModel",
          "model_module_version": "1.2.0",
          "state": {
            "_model_module": "@jupyter-widgets/base",
            "_model_module_version": "1.2.0",
            "_model_name": "LayoutModel",
            "_view_count": null,
            "_view_module": "@jupyter-widgets/base",
            "_view_module_version": "1.2.0",
            "_view_name": "LayoutView",
            "align_content": null,
            "align_items": null,
            "align_self": null,
            "border": null,
            "bottom": null,
            "display": null,
            "flex": null,
            "flex_flow": null,
            "grid_area": null,
            "grid_auto_columns": null,
            "grid_auto_flow": null,
            "grid_auto_rows": null,
            "grid_column": null,
            "grid_gap": null,
            "grid_row": null,
            "grid_template_areas": null,
            "grid_template_columns": null,
            "grid_template_rows": null,
            "height": null,
            "justify_content": null,
            "justify_items": null,
            "left": null,
            "margin": null,
            "max_height": null,
            "max_width": null,
            "min_height": null,
            "min_width": null,
            "object_fit": null,
            "object_position": null,
            "order": null,
            "overflow": null,
            "overflow_x": null,
            "overflow_y": null,
            "padding": null,
            "right": null,
            "top": null,
            "visibility": null,
            "width": null
          }
        },
        "8e6767b256d9475d84649e1664b7e5e3": {
          "model_module": "@jupyter-widgets/base",
          "model_name": "LayoutModel",
          "model_module_version": "1.2.0",
          "state": {
            "_model_module": "@jupyter-widgets/base",
            "_model_module_version": "1.2.0",
            "_model_name": "LayoutModel",
            "_view_count": null,
            "_view_module": "@jupyter-widgets/base",
            "_view_module_version": "1.2.0",
            "_view_name": "LayoutView",
            "align_content": null,
            "align_items": null,
            "align_self": null,
            "border": null,
            "bottom": null,
            "display": null,
            "flex": null,
            "flex_flow": null,
            "grid_area": null,
            "grid_auto_columns": null,
            "grid_auto_flow": null,
            "grid_auto_rows": null,
            "grid_column": null,
            "grid_gap": null,
            "grid_row": null,
            "grid_template_areas": null,
            "grid_template_columns": null,
            "grid_template_rows": null,
            "height": null,
            "justify_content": null,
            "justify_items": null,
            "left": null,
            "margin": null,
            "max_height": null,
            "max_width": null,
            "min_height": null,
            "min_width": null,
            "object_fit": null,
            "object_position": null,
            "order": null,
            "overflow": null,
            "overflow_x": null,
            "overflow_y": null,
            "padding": null,
            "right": null,
            "top": null,
            "visibility": null,
            "width": null
          }
        },
        "97dc5f9b008f4bd085be2d2662426a64": {
          "model_module": "@jupyter-widgets/controls",
          "model_name": "DescriptionStyleModel",
          "model_module_version": "1.5.0",
          "state": {
            "_model_module": "@jupyter-widgets/controls",
            "_model_module_version": "1.5.0",
            "_model_name": "DescriptionStyleModel",
            "_view_count": null,
            "_view_module": "@jupyter-widgets/base",
            "_view_module_version": "1.2.0",
            "_view_name": "StyleView",
            "description_width": ""
          }
        },
        "7109680f52a4484188426ac94c879d1a": {
          "model_module": "@jupyter-widgets/base",
          "model_name": "LayoutModel",
          "model_module_version": "1.2.0",
          "state": {
            "_model_module": "@jupyter-widgets/base",
            "_model_module_version": "1.2.0",
            "_model_name": "LayoutModel",
            "_view_count": null,
            "_view_module": "@jupyter-widgets/base",
            "_view_module_version": "1.2.0",
            "_view_name": "LayoutView",
            "align_content": null,
            "align_items": null,
            "align_self": null,
            "border": null,
            "bottom": null,
            "display": null,
            "flex": null,
            "flex_flow": null,
            "grid_area": null,
            "grid_auto_columns": null,
            "grid_auto_flow": null,
            "grid_auto_rows": null,
            "grid_column": null,
            "grid_gap": null,
            "grid_row": null,
            "grid_template_areas": null,
            "grid_template_columns": null,
            "grid_template_rows": null,
            "height": null,
            "justify_content": null,
            "justify_items": null,
            "left": null,
            "margin": null,
            "max_height": null,
            "max_width": null,
            "min_height": null,
            "min_width": null,
            "object_fit": null,
            "object_position": null,
            "order": null,
            "overflow": null,
            "overflow_x": null,
            "overflow_y": null,
            "padding": null,
            "right": null,
            "top": null,
            "visibility": null,
            "width": null
          }
        },
        "2bf239152df84ee7893a27ebf73053c6": {
          "model_module": "@jupyter-widgets/controls",
          "model_name": "ProgressStyleModel",
          "model_module_version": "1.5.0",
          "state": {
            "_model_module": "@jupyter-widgets/controls",
            "_model_module_version": "1.5.0",
            "_model_name": "ProgressStyleModel",
            "_view_count": null,
            "_view_module": "@jupyter-widgets/base",
            "_view_module_version": "1.2.0",
            "_view_name": "StyleView",
            "bar_color": null,
            "description_width": ""
          }
        },
        "8e6f4117c8144e2e8953ea161dfebc51": {
          "model_module": "@jupyter-widgets/base",
          "model_name": "LayoutModel",
          "model_module_version": "1.2.0",
          "state": {
            "_model_module": "@jupyter-widgets/base",
            "_model_module_version": "1.2.0",
            "_model_name": "LayoutModel",
            "_view_count": null,
            "_view_module": "@jupyter-widgets/base",
            "_view_module_version": "1.2.0",
            "_view_name": "LayoutView",
            "align_content": null,
            "align_items": null,
            "align_self": null,
            "border": null,
            "bottom": null,
            "display": null,
            "flex": null,
            "flex_flow": null,
            "grid_area": null,
            "grid_auto_columns": null,
            "grid_auto_flow": null,
            "grid_auto_rows": null,
            "grid_column": null,
            "grid_gap": null,
            "grid_row": null,
            "grid_template_areas": null,
            "grid_template_columns": null,
            "grid_template_rows": null,
            "height": null,
            "justify_content": null,
            "justify_items": null,
            "left": null,
            "margin": null,
            "max_height": null,
            "max_width": null,
            "min_height": null,
            "min_width": null,
            "object_fit": null,
            "object_position": null,
            "order": null,
            "overflow": null,
            "overflow_x": null,
            "overflow_y": null,
            "padding": null,
            "right": null,
            "top": null,
            "visibility": null,
            "width": null
          }
        },
        "1eb96fd3610940a89f1d1ee00415e01f": {
          "model_module": "@jupyter-widgets/controls",
          "model_name": "DescriptionStyleModel",
          "model_module_version": "1.5.0",
          "state": {
            "_model_module": "@jupyter-widgets/controls",
            "_model_module_version": "1.5.0",
            "_model_name": "DescriptionStyleModel",
            "_view_count": null,
            "_view_module": "@jupyter-widgets/base",
            "_view_module_version": "1.2.0",
            "_view_name": "StyleView",
            "description_width": ""
          }
        },
        "813aeea3abea4b7bb4de59769d71e5eb": {
          "model_module": "@jupyter-widgets/controls",
          "model_name": "HBoxModel",
          "model_module_version": "1.5.0",
          "state": {
            "_dom_classes": [],
            "_model_module": "@jupyter-widgets/controls",
            "_model_module_version": "1.5.0",
            "_model_name": "HBoxModel",
            "_view_count": null,
            "_view_module": "@jupyter-widgets/controls",
            "_view_module_version": "1.5.0",
            "_view_name": "HBoxView",
            "box_style": "",
            "children": [
              "IPY_MODEL_7b6eeeb751cb44cab876b20cbb84697d",
              "IPY_MODEL_3904750e978940e8933d8ce0c3df326f",
              "IPY_MODEL_465738c4e9eb4dad9ecad5a5f1f8c214"
            ],
            "layout": "IPY_MODEL_01b7478153d64a6ca7dc9e56e55a08dc"
          }
        },
        "7b6eeeb751cb44cab876b20cbb84697d": {
          "model_module": "@jupyter-widgets/controls",
          "model_name": "HTMLModel",
          "model_module_version": "1.5.0",
          "state": {
            "_dom_classes": [],
            "_model_module": "@jupyter-widgets/controls",
            "_model_module_version": "1.5.0",
            "_model_name": "HTMLModel",
            "_view_count": null,
            "_view_module": "@jupyter-widgets/controls",
            "_view_module_version": "1.5.0",
            "_view_name": "HTMLView",
            "description": "",
            "description_tooltip": null,
            "layout": "IPY_MODEL_b2fafc0a6ed44592a5128f0863ca46f0",
            "placeholder": "​",
            "style": "IPY_MODEL_ef87f62a365e42bd8755a679073c063e",
            "value": "Downloading: 100%"
          }
        },
        "3904750e978940e8933d8ce0c3df326f": {
          "model_module": "@jupyter-widgets/controls",
          "model_name": "FloatProgressModel",
          "model_module_version": "1.5.0",
          "state": {
            "_dom_classes": [],
            "_model_module": "@jupyter-widgets/controls",
            "_model_module_version": "1.5.0",
            "_model_name": "FloatProgressModel",
            "_view_count": null,
            "_view_module": "@jupyter-widgets/controls",
            "_view_module_version": "1.5.0",
            "_view_name": "ProgressView",
            "bar_style": "success",
            "description": "",
            "description_tooltip": null,
            "layout": "IPY_MODEL_7c6b7ccaa03049c58a4e9791e23aca81",
            "max": 48,
            "min": 0,
            "orientation": "horizontal",
            "style": "IPY_MODEL_a81be750ab1f4c789b8637120df6e25e",
            "value": 48
          }
        },
        "465738c4e9eb4dad9ecad5a5f1f8c214": {
          "model_module": "@jupyter-widgets/controls",
          "model_name": "HTMLModel",
          "model_module_version": "1.5.0",
          "state": {
            "_dom_classes": [],
            "_model_module": "@jupyter-widgets/controls",
            "_model_module_version": "1.5.0",
            "_model_name": "HTMLModel",
            "_view_count": null,
            "_view_module": "@jupyter-widgets/controls",
            "_view_module_version": "1.5.0",
            "_view_name": "HTMLView",
            "description": "",
            "description_tooltip": null,
            "layout": "IPY_MODEL_6b55da35d87e435f84f80e07e6dc00df",
            "placeholder": "​",
            "style": "IPY_MODEL_bc96473c789e48d4b1cf630d4b2cba3b",
            "value": " 48.0/48.0 [00:00&lt;00:00, 1.95kB/s]"
          }
        },
        "01b7478153d64a6ca7dc9e56e55a08dc": {
          "model_module": "@jupyter-widgets/base",
          "model_name": "LayoutModel",
          "model_module_version": "1.2.0",
          "state": {
            "_model_module": "@jupyter-widgets/base",
            "_model_module_version": "1.2.0",
            "_model_name": "LayoutModel",
            "_view_count": null,
            "_view_module": "@jupyter-widgets/base",
            "_view_module_version": "1.2.0",
            "_view_name": "LayoutView",
            "align_content": null,
            "align_items": null,
            "align_self": null,
            "border": null,
            "bottom": null,
            "display": null,
            "flex": null,
            "flex_flow": null,
            "grid_area": null,
            "grid_auto_columns": null,
            "grid_auto_flow": null,
            "grid_auto_rows": null,
            "grid_column": null,
            "grid_gap": null,
            "grid_row": null,
            "grid_template_areas": null,
            "grid_template_columns": null,
            "grid_template_rows": null,
            "height": null,
            "justify_content": null,
            "justify_items": null,
            "left": null,
            "margin": null,
            "max_height": null,
            "max_width": null,
            "min_height": null,
            "min_width": null,
            "object_fit": null,
            "object_position": null,
            "order": null,
            "overflow": null,
            "overflow_x": null,
            "overflow_y": null,
            "padding": null,
            "right": null,
            "top": null,
            "visibility": null,
            "width": null
          }
        },
        "b2fafc0a6ed44592a5128f0863ca46f0": {
          "model_module": "@jupyter-widgets/base",
          "model_name": "LayoutModel",
          "model_module_version": "1.2.0",
          "state": {
            "_model_module": "@jupyter-widgets/base",
            "_model_module_version": "1.2.0",
            "_model_name": "LayoutModel",
            "_view_count": null,
            "_view_module": "@jupyter-widgets/base",
            "_view_module_version": "1.2.0",
            "_view_name": "LayoutView",
            "align_content": null,
            "align_items": null,
            "align_self": null,
            "border": null,
            "bottom": null,
            "display": null,
            "flex": null,
            "flex_flow": null,
            "grid_area": null,
            "grid_auto_columns": null,
            "grid_auto_flow": null,
            "grid_auto_rows": null,
            "grid_column": null,
            "grid_gap": null,
            "grid_row": null,
            "grid_template_areas": null,
            "grid_template_columns": null,
            "grid_template_rows": null,
            "height": null,
            "justify_content": null,
            "justify_items": null,
            "left": null,
            "margin": null,
            "max_height": null,
            "max_width": null,
            "min_height": null,
            "min_width": null,
            "object_fit": null,
            "object_position": null,
            "order": null,
            "overflow": null,
            "overflow_x": null,
            "overflow_y": null,
            "padding": null,
            "right": null,
            "top": null,
            "visibility": null,
            "width": null
          }
        },
        "ef87f62a365e42bd8755a679073c063e": {
          "model_module": "@jupyter-widgets/controls",
          "model_name": "DescriptionStyleModel",
          "model_module_version": "1.5.0",
          "state": {
            "_model_module": "@jupyter-widgets/controls",
            "_model_module_version": "1.5.0",
            "_model_name": "DescriptionStyleModel",
            "_view_count": null,
            "_view_module": "@jupyter-widgets/base",
            "_view_module_version": "1.2.0",
            "_view_name": "StyleView",
            "description_width": ""
          }
        },
        "7c6b7ccaa03049c58a4e9791e23aca81": {
          "model_module": "@jupyter-widgets/base",
          "model_name": "LayoutModel",
          "model_module_version": "1.2.0",
          "state": {
            "_model_module": "@jupyter-widgets/base",
            "_model_module_version": "1.2.0",
            "_model_name": "LayoutModel",
            "_view_count": null,
            "_view_module": "@jupyter-widgets/base",
            "_view_module_version": "1.2.0",
            "_view_name": "LayoutView",
            "align_content": null,
            "align_items": null,
            "align_self": null,
            "border": null,
            "bottom": null,
            "display": null,
            "flex": null,
            "flex_flow": null,
            "grid_area": null,
            "grid_auto_columns": null,
            "grid_auto_flow": null,
            "grid_auto_rows": null,
            "grid_column": null,
            "grid_gap": null,
            "grid_row": null,
            "grid_template_areas": null,
            "grid_template_columns": null,
            "grid_template_rows": null,
            "height": null,
            "justify_content": null,
            "justify_items": null,
            "left": null,
            "margin": null,
            "max_height": null,
            "max_width": null,
            "min_height": null,
            "min_width": null,
            "object_fit": null,
            "object_position": null,
            "order": null,
            "overflow": null,
            "overflow_x": null,
            "overflow_y": null,
            "padding": null,
            "right": null,
            "top": null,
            "visibility": null,
            "width": null
          }
        },
        "a81be750ab1f4c789b8637120df6e25e": {
          "model_module": "@jupyter-widgets/controls",
          "model_name": "ProgressStyleModel",
          "model_module_version": "1.5.0",
          "state": {
            "_model_module": "@jupyter-widgets/controls",
            "_model_module_version": "1.5.0",
            "_model_name": "ProgressStyleModel",
            "_view_count": null,
            "_view_module": "@jupyter-widgets/base",
            "_view_module_version": "1.2.0",
            "_view_name": "StyleView",
            "bar_color": null,
            "description_width": ""
          }
        },
        "6b55da35d87e435f84f80e07e6dc00df": {
          "model_module": "@jupyter-widgets/base",
          "model_name": "LayoutModel",
          "model_module_version": "1.2.0",
          "state": {
            "_model_module": "@jupyter-widgets/base",
            "_model_module_version": "1.2.0",
            "_model_name": "LayoutModel",
            "_view_count": null,
            "_view_module": "@jupyter-widgets/base",
            "_view_module_version": "1.2.0",
            "_view_name": "LayoutView",
            "align_content": null,
            "align_items": null,
            "align_self": null,
            "border": null,
            "bottom": null,
            "display": null,
            "flex": null,
            "flex_flow": null,
            "grid_area": null,
            "grid_auto_columns": null,
            "grid_auto_flow": null,
            "grid_auto_rows": null,
            "grid_column": null,
            "grid_gap": null,
            "grid_row": null,
            "grid_template_areas": null,
            "grid_template_columns": null,
            "grid_template_rows": null,
            "height": null,
            "justify_content": null,
            "justify_items": null,
            "left": null,
            "margin": null,
            "max_height": null,
            "max_width": null,
            "min_height": null,
            "min_width": null,
            "object_fit": null,
            "object_position": null,
            "order": null,
            "overflow": null,
            "overflow_x": null,
            "overflow_y": null,
            "padding": null,
            "right": null,
            "top": null,
            "visibility": null,
            "width": null
          }
        },
        "bc96473c789e48d4b1cf630d4b2cba3b": {
          "model_module": "@jupyter-widgets/controls",
          "model_name": "DescriptionStyleModel",
          "model_module_version": "1.5.0",
          "state": {
            "_model_module": "@jupyter-widgets/controls",
            "_model_module_version": "1.5.0",
            "_model_name": "DescriptionStyleModel",
            "_view_count": null,
            "_view_module": "@jupyter-widgets/base",
            "_view_module_version": "1.2.0",
            "_view_name": "StyleView",
            "description_width": ""
          }
        },
        "6b9c2287603d43a39d8044090319bb7c": {
          "model_module": "@jupyter-widgets/controls",
          "model_name": "HBoxModel",
          "model_module_version": "1.5.0",
          "state": {
            "_dom_classes": [],
            "_model_module": "@jupyter-widgets/controls",
            "_model_module_version": "1.5.0",
            "_model_name": "HBoxModel",
            "_view_count": null,
            "_view_module": "@jupyter-widgets/controls",
            "_view_module_version": "1.5.0",
            "_view_name": "HBoxView",
            "box_style": "",
            "children": [
              "IPY_MODEL_d09b158c7c6d48db9aa6936cc5bb35b7",
              "IPY_MODEL_b7c74342d5a94254a5321c9ae9d377ca",
              "IPY_MODEL_6a17f468d62349fe980704f4b683f433"
            ],
            "layout": "IPY_MODEL_804529e92de84d4b8a70916e40e1d67f"
          }
        },
        "d09b158c7c6d48db9aa6936cc5bb35b7": {
          "model_module": "@jupyter-widgets/controls",
          "model_name": "HTMLModel",
          "model_module_version": "1.5.0",
          "state": {
            "_dom_classes": [],
            "_model_module": "@jupyter-widgets/controls",
            "_model_module_version": "1.5.0",
            "_model_name": "HTMLModel",
            "_view_count": null,
            "_view_module": "@jupyter-widgets/controls",
            "_view_module_version": "1.5.0",
            "_view_name": "HTMLView",
            "description": "",
            "description_tooltip": null,
            "layout": "IPY_MODEL_91ddd6cebfe64657a4c4447020f5acc0",
            "placeholder": "​",
            "style": "IPY_MODEL_da473a94d7484917a98f27fc3e44779c",
            "value": "Downloading: 100%"
          }
        },
        "b7c74342d5a94254a5321c9ae9d377ca": {
          "model_module": "@jupyter-widgets/controls",
          "model_name": "FloatProgressModel",
          "model_module_version": "1.5.0",
          "state": {
            "_dom_classes": [],
            "_model_module": "@jupyter-widgets/controls",
            "_model_module_version": "1.5.0",
            "_model_name": "FloatProgressModel",
            "_view_count": null,
            "_view_module": "@jupyter-widgets/controls",
            "_view_module_version": "1.5.0",
            "_view_name": "ProgressView",
            "bar_style": "success",
            "description": "",
            "description_tooltip": null,
            "layout": "IPY_MODEL_712d8bb6c7be4911940b3edba609d1c2",
            "max": 231508,
            "min": 0,
            "orientation": "horizontal",
            "style": "IPY_MODEL_5daff1878f0948afaedaa44a5387ad1f",
            "value": 231508
          }
        },
        "6a17f468d62349fe980704f4b683f433": {
          "model_module": "@jupyter-widgets/controls",
          "model_name": "HTMLModel",
          "model_module_version": "1.5.0",
          "state": {
            "_dom_classes": [],
            "_model_module": "@jupyter-widgets/controls",
            "_model_module_version": "1.5.0",
            "_model_name": "HTMLModel",
            "_view_count": null,
            "_view_module": "@jupyter-widgets/controls",
            "_view_module_version": "1.5.0",
            "_view_name": "HTMLView",
            "description": "",
            "description_tooltip": null,
            "layout": "IPY_MODEL_c005b9377ddc4e43a38bba84a7aae066",
            "placeholder": "​",
            "style": "IPY_MODEL_96c6b8c257ad421790ae5ea22b2f5d81",
            "value": " 232k/232k [00:00&lt;00:00, 282kB/s]"
          }
        },
        "804529e92de84d4b8a70916e40e1d67f": {
          "model_module": "@jupyter-widgets/base",
          "model_name": "LayoutModel",
          "model_module_version": "1.2.0",
          "state": {
            "_model_module": "@jupyter-widgets/base",
            "_model_module_version": "1.2.0",
            "_model_name": "LayoutModel",
            "_view_count": null,
            "_view_module": "@jupyter-widgets/base",
            "_view_module_version": "1.2.0",
            "_view_name": "LayoutView",
            "align_content": null,
            "align_items": null,
            "align_self": null,
            "border": null,
            "bottom": null,
            "display": null,
            "flex": null,
            "flex_flow": null,
            "grid_area": null,
            "grid_auto_columns": null,
            "grid_auto_flow": null,
            "grid_auto_rows": null,
            "grid_column": null,
            "grid_gap": null,
            "grid_row": null,
            "grid_template_areas": null,
            "grid_template_columns": null,
            "grid_template_rows": null,
            "height": null,
            "justify_content": null,
            "justify_items": null,
            "left": null,
            "margin": null,
            "max_height": null,
            "max_width": null,
            "min_height": null,
            "min_width": null,
            "object_fit": null,
            "object_position": null,
            "order": null,
            "overflow": null,
            "overflow_x": null,
            "overflow_y": null,
            "padding": null,
            "right": null,
            "top": null,
            "visibility": null,
            "width": null
          }
        },
        "91ddd6cebfe64657a4c4447020f5acc0": {
          "model_module": "@jupyter-widgets/base",
          "model_name": "LayoutModel",
          "model_module_version": "1.2.0",
          "state": {
            "_model_module": "@jupyter-widgets/base",
            "_model_module_version": "1.2.0",
            "_model_name": "LayoutModel",
            "_view_count": null,
            "_view_module": "@jupyter-widgets/base",
            "_view_module_version": "1.2.0",
            "_view_name": "LayoutView",
            "align_content": null,
            "align_items": null,
            "align_self": null,
            "border": null,
            "bottom": null,
            "display": null,
            "flex": null,
            "flex_flow": null,
            "grid_area": null,
            "grid_auto_columns": null,
            "grid_auto_flow": null,
            "grid_auto_rows": null,
            "grid_column": null,
            "grid_gap": null,
            "grid_row": null,
            "grid_template_areas": null,
            "grid_template_columns": null,
            "grid_template_rows": null,
            "height": null,
            "justify_content": null,
            "justify_items": null,
            "left": null,
            "margin": null,
            "max_height": null,
            "max_width": null,
            "min_height": null,
            "min_width": null,
            "object_fit": null,
            "object_position": null,
            "order": null,
            "overflow": null,
            "overflow_x": null,
            "overflow_y": null,
            "padding": null,
            "right": null,
            "top": null,
            "visibility": null,
            "width": null
          }
        },
        "da473a94d7484917a98f27fc3e44779c": {
          "model_module": "@jupyter-widgets/controls",
          "model_name": "DescriptionStyleModel",
          "model_module_version": "1.5.0",
          "state": {
            "_model_module": "@jupyter-widgets/controls",
            "_model_module_version": "1.5.0",
            "_model_name": "DescriptionStyleModel",
            "_view_count": null,
            "_view_module": "@jupyter-widgets/base",
            "_view_module_version": "1.2.0",
            "_view_name": "StyleView",
            "description_width": ""
          }
        },
        "712d8bb6c7be4911940b3edba609d1c2": {
          "model_module": "@jupyter-widgets/base",
          "model_name": "LayoutModel",
          "model_module_version": "1.2.0",
          "state": {
            "_model_module": "@jupyter-widgets/base",
            "_model_module_version": "1.2.0",
            "_model_name": "LayoutModel",
            "_view_count": null,
            "_view_module": "@jupyter-widgets/base",
            "_view_module_version": "1.2.0",
            "_view_name": "LayoutView",
            "align_content": null,
            "align_items": null,
            "align_self": null,
            "border": null,
            "bottom": null,
            "display": null,
            "flex": null,
            "flex_flow": null,
            "grid_area": null,
            "grid_auto_columns": null,
            "grid_auto_flow": null,
            "grid_auto_rows": null,
            "grid_column": null,
            "grid_gap": null,
            "grid_row": null,
            "grid_template_areas": null,
            "grid_template_columns": null,
            "grid_template_rows": null,
            "height": null,
            "justify_content": null,
            "justify_items": null,
            "left": null,
            "margin": null,
            "max_height": null,
            "max_width": null,
            "min_height": null,
            "min_width": null,
            "object_fit": null,
            "object_position": null,
            "order": null,
            "overflow": null,
            "overflow_x": null,
            "overflow_y": null,
            "padding": null,
            "right": null,
            "top": null,
            "visibility": null,
            "width": null
          }
        },
        "5daff1878f0948afaedaa44a5387ad1f": {
          "model_module": "@jupyter-widgets/controls",
          "model_name": "ProgressStyleModel",
          "model_module_version": "1.5.0",
          "state": {
            "_model_module": "@jupyter-widgets/controls",
            "_model_module_version": "1.5.0",
            "_model_name": "ProgressStyleModel",
            "_view_count": null,
            "_view_module": "@jupyter-widgets/base",
            "_view_module_version": "1.2.0",
            "_view_name": "StyleView",
            "bar_color": null,
            "description_width": ""
          }
        },
        "c005b9377ddc4e43a38bba84a7aae066": {
          "model_module": "@jupyter-widgets/base",
          "model_name": "LayoutModel",
          "model_module_version": "1.2.0",
          "state": {
            "_model_module": "@jupyter-widgets/base",
            "_model_module_version": "1.2.0",
            "_model_name": "LayoutModel",
            "_view_count": null,
            "_view_module": "@jupyter-widgets/base",
            "_view_module_version": "1.2.0",
            "_view_name": "LayoutView",
            "align_content": null,
            "align_items": null,
            "align_self": null,
            "border": null,
            "bottom": null,
            "display": null,
            "flex": null,
            "flex_flow": null,
            "grid_area": null,
            "grid_auto_columns": null,
            "grid_auto_flow": null,
            "grid_auto_rows": null,
            "grid_column": null,
            "grid_gap": null,
            "grid_row": null,
            "grid_template_areas": null,
            "grid_template_columns": null,
            "grid_template_rows": null,
            "height": null,
            "justify_content": null,
            "justify_items": null,
            "left": null,
            "margin": null,
            "max_height": null,
            "max_width": null,
            "min_height": null,
            "min_width": null,
            "object_fit": null,
            "object_position": null,
            "order": null,
            "overflow": null,
            "overflow_x": null,
            "overflow_y": null,
            "padding": null,
            "right": null,
            "top": null,
            "visibility": null,
            "width": null
          }
        },
        "96c6b8c257ad421790ae5ea22b2f5d81": {
          "model_module": "@jupyter-widgets/controls",
          "model_name": "DescriptionStyleModel",
          "model_module_version": "1.5.0",
          "state": {
            "_model_module": "@jupyter-widgets/controls",
            "_model_module_version": "1.5.0",
            "_model_name": "DescriptionStyleModel",
            "_view_count": null,
            "_view_module": "@jupyter-widgets/base",
            "_view_module_version": "1.2.0",
            "_view_name": "StyleView",
            "description_width": ""
          }
        },
        "0eaf9eda3bba4fa2846dca16c4c0653c": {
          "model_module": "@jupyter-widgets/controls",
          "model_name": "HBoxModel",
          "model_module_version": "1.5.0",
          "state": {
            "_dom_classes": [],
            "_model_module": "@jupyter-widgets/controls",
            "_model_module_version": "1.5.0",
            "_model_name": "HBoxModel",
            "_view_count": null,
            "_view_module": "@jupyter-widgets/controls",
            "_view_module_version": "1.5.0",
            "_view_name": "HBoxView",
            "box_style": "",
            "children": [
              "IPY_MODEL_425efe3e51b84a74944f915ad63bba4b",
              "IPY_MODEL_39318629c15b452ebfcd1e7bd71c9304",
              "IPY_MODEL_4aa4bf09c4544d03ab8a33cc80eb28c6"
            ],
            "layout": "IPY_MODEL_69a19d19ed1e4b60a9edfb73621d5152"
          }
        },
        "425efe3e51b84a74944f915ad63bba4b": {
          "model_module": "@jupyter-widgets/controls",
          "model_name": "HTMLModel",
          "model_module_version": "1.5.0",
          "state": {
            "_dom_classes": [],
            "_model_module": "@jupyter-widgets/controls",
            "_model_module_version": "1.5.0",
            "_model_name": "HTMLModel",
            "_view_count": null,
            "_view_module": "@jupyter-widgets/controls",
            "_view_module_version": "1.5.0",
            "_view_name": "HTMLView",
            "description": "",
            "description_tooltip": null,
            "layout": "IPY_MODEL_0da5973e4bf148318db2821cbdf56534",
            "placeholder": "​",
            "style": "IPY_MODEL_f4395f184efc40e2a60b2992d0b5679a",
            "value": "Downloading: 100%"
          }
        },
        "39318629c15b452ebfcd1e7bd71c9304": {
          "model_module": "@jupyter-widgets/controls",
          "model_name": "FloatProgressModel",
          "model_module_version": "1.5.0",
          "state": {
            "_dom_classes": [],
            "_model_module": "@jupyter-widgets/controls",
            "_model_module_version": "1.5.0",
            "_model_name": "FloatProgressModel",
            "_view_count": null,
            "_view_module": "@jupyter-widgets/controls",
            "_view_module_version": "1.5.0",
            "_view_name": "ProgressView",
            "bar_style": "success",
            "description": "",
            "description_tooltip": null,
            "layout": "IPY_MODEL_c3da61d2008442bea830d4d26d8e53e3",
            "max": 112,
            "min": 0,
            "orientation": "horizontal",
            "style": "IPY_MODEL_b76629796b3149f49abc29e0f1816688",
            "value": 112
          }
        },
        "4aa4bf09c4544d03ab8a33cc80eb28c6": {
          "model_module": "@jupyter-widgets/controls",
          "model_name": "HTMLModel",
          "model_module_version": "1.5.0",
          "state": {
            "_dom_classes": [],
            "_model_module": "@jupyter-widgets/controls",
            "_model_module_version": "1.5.0",
            "_model_name": "HTMLModel",
            "_view_count": null,
            "_view_module": "@jupyter-widgets/controls",
            "_view_module_version": "1.5.0",
            "_view_name": "HTMLView",
            "description": "",
            "description_tooltip": null,
            "layout": "IPY_MODEL_396f95fa5b304aee932e4a31ffb07b33",
            "placeholder": "​",
            "style": "IPY_MODEL_058343d3b8ac461d83e8ea6dfa4f7414",
            "value": " 112/112 [00:00&lt;00:00, 3.32kB/s]"
          }
        },
        "69a19d19ed1e4b60a9edfb73621d5152": {
          "model_module": "@jupyter-widgets/base",
          "model_name": "LayoutModel",
          "model_module_version": "1.2.0",
          "state": {
            "_model_module": "@jupyter-widgets/base",
            "_model_module_version": "1.2.0",
            "_model_name": "LayoutModel",
            "_view_count": null,
            "_view_module": "@jupyter-widgets/base",
            "_view_module_version": "1.2.0",
            "_view_name": "LayoutView",
            "align_content": null,
            "align_items": null,
            "align_self": null,
            "border": null,
            "bottom": null,
            "display": null,
            "flex": null,
            "flex_flow": null,
            "grid_area": null,
            "grid_auto_columns": null,
            "grid_auto_flow": null,
            "grid_auto_rows": null,
            "grid_column": null,
            "grid_gap": null,
            "grid_row": null,
            "grid_template_areas": null,
            "grid_template_columns": null,
            "grid_template_rows": null,
            "height": null,
            "justify_content": null,
            "justify_items": null,
            "left": null,
            "margin": null,
            "max_height": null,
            "max_width": null,
            "min_height": null,
            "min_width": null,
            "object_fit": null,
            "object_position": null,
            "order": null,
            "overflow": null,
            "overflow_x": null,
            "overflow_y": null,
            "padding": null,
            "right": null,
            "top": null,
            "visibility": null,
            "width": null
          }
        },
        "0da5973e4bf148318db2821cbdf56534": {
          "model_module": "@jupyter-widgets/base",
          "model_name": "LayoutModel",
          "model_module_version": "1.2.0",
          "state": {
            "_model_module": "@jupyter-widgets/base",
            "_model_module_version": "1.2.0",
            "_model_name": "LayoutModel",
            "_view_count": null,
            "_view_module": "@jupyter-widgets/base",
            "_view_module_version": "1.2.0",
            "_view_name": "LayoutView",
            "align_content": null,
            "align_items": null,
            "align_self": null,
            "border": null,
            "bottom": null,
            "display": null,
            "flex": null,
            "flex_flow": null,
            "grid_area": null,
            "grid_auto_columns": null,
            "grid_auto_flow": null,
            "grid_auto_rows": null,
            "grid_column": null,
            "grid_gap": null,
            "grid_row": null,
            "grid_template_areas": null,
            "grid_template_columns": null,
            "grid_template_rows": null,
            "height": null,
            "justify_content": null,
            "justify_items": null,
            "left": null,
            "margin": null,
            "max_height": null,
            "max_width": null,
            "min_height": null,
            "min_width": null,
            "object_fit": null,
            "object_position": null,
            "order": null,
            "overflow": null,
            "overflow_x": null,
            "overflow_y": null,
            "padding": null,
            "right": null,
            "top": null,
            "visibility": null,
            "width": null
          }
        },
        "f4395f184efc40e2a60b2992d0b5679a": {
          "model_module": "@jupyter-widgets/controls",
          "model_name": "DescriptionStyleModel",
          "model_module_version": "1.5.0",
          "state": {
            "_model_module": "@jupyter-widgets/controls",
            "_model_module_version": "1.5.0",
            "_model_name": "DescriptionStyleModel",
            "_view_count": null,
            "_view_module": "@jupyter-widgets/base",
            "_view_module_version": "1.2.0",
            "_view_name": "StyleView",
            "description_width": ""
          }
        },
        "c3da61d2008442bea830d4d26d8e53e3": {
          "model_module": "@jupyter-widgets/base",
          "model_name": "LayoutModel",
          "model_module_version": "1.2.0",
          "state": {
            "_model_module": "@jupyter-widgets/base",
            "_model_module_version": "1.2.0",
            "_model_name": "LayoutModel",
            "_view_count": null,
            "_view_module": "@jupyter-widgets/base",
            "_view_module_version": "1.2.0",
            "_view_name": "LayoutView",
            "align_content": null,
            "align_items": null,
            "align_self": null,
            "border": null,
            "bottom": null,
            "display": null,
            "flex": null,
            "flex_flow": null,
            "grid_area": null,
            "grid_auto_columns": null,
            "grid_auto_flow": null,
            "grid_auto_rows": null,
            "grid_column": null,
            "grid_gap": null,
            "grid_row": null,
            "grid_template_areas": null,
            "grid_template_columns": null,
            "grid_template_rows": null,
            "height": null,
            "justify_content": null,
            "justify_items": null,
            "left": null,
            "margin": null,
            "max_height": null,
            "max_width": null,
            "min_height": null,
            "min_width": null,
            "object_fit": null,
            "object_position": null,
            "order": null,
            "overflow": null,
            "overflow_x": null,
            "overflow_y": null,
            "padding": null,
            "right": null,
            "top": null,
            "visibility": null,
            "width": null
          }
        },
        "b76629796b3149f49abc29e0f1816688": {
          "model_module": "@jupyter-widgets/controls",
          "model_name": "ProgressStyleModel",
          "model_module_version": "1.5.0",
          "state": {
            "_model_module": "@jupyter-widgets/controls",
            "_model_module_version": "1.5.0",
            "_model_name": "ProgressStyleModel",
            "_view_count": null,
            "_view_module": "@jupyter-widgets/base",
            "_view_module_version": "1.2.0",
            "_view_name": "StyleView",
            "bar_color": null,
            "description_width": ""
          }
        },
        "396f95fa5b304aee932e4a31ffb07b33": {
          "model_module": "@jupyter-widgets/base",
          "model_name": "LayoutModel",
          "model_module_version": "1.2.0",
          "state": {
            "_model_module": "@jupyter-widgets/base",
            "_model_module_version": "1.2.0",
            "_model_name": "LayoutModel",
            "_view_count": null,
            "_view_module": "@jupyter-widgets/base",
            "_view_module_version": "1.2.0",
            "_view_name": "LayoutView",
            "align_content": null,
            "align_items": null,
            "align_self": null,
            "border": null,
            "bottom": null,
            "display": null,
            "flex": null,
            "flex_flow": null,
            "grid_area": null,
            "grid_auto_columns": null,
            "grid_auto_flow": null,
            "grid_auto_rows": null,
            "grid_column": null,
            "grid_gap": null,
            "grid_row": null,
            "grid_template_areas": null,
            "grid_template_columns": null,
            "grid_template_rows": null,
            "height": null,
            "justify_content": null,
            "justify_items": null,
            "left": null,
            "margin": null,
            "max_height": null,
            "max_width": null,
            "min_height": null,
            "min_width": null,
            "object_fit": null,
            "object_position": null,
            "order": null,
            "overflow": null,
            "overflow_x": null,
            "overflow_y": null,
            "padding": null,
            "right": null,
            "top": null,
            "visibility": null,
            "width": null
          }
        },
        "058343d3b8ac461d83e8ea6dfa4f7414": {
          "model_module": "@jupyter-widgets/controls",
          "model_name": "DescriptionStyleModel",
          "model_module_version": "1.5.0",
          "state": {
            "_model_module": "@jupyter-widgets/controls",
            "_model_module_version": "1.5.0",
            "_model_name": "DescriptionStyleModel",
            "_view_count": null,
            "_view_module": "@jupyter-widgets/base",
            "_view_module_version": "1.2.0",
            "_view_name": "StyleView",
            "description_width": ""
          }
        }
      }
    }
  },
  "nbformat": 4,
  "nbformat_minor": 0
}