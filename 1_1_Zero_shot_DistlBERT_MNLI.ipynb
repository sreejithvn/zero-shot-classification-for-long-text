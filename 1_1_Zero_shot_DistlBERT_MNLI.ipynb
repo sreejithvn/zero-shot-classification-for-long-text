{
  "cells": [
    {
      "cell_type": "markdown",
      "metadata": {
        "id": "view-in-github",
        "colab_type": "text"
      },
      "source": [
        "<a href=\"https://colab.research.google.com/github/sreejithvn/zero-shot-classification-for-long-text/blob/main/1_1_Zero_shot_DistlBERT_MNLI.ipynb\" target=\"_parent\"><img src=\"https://colab.research.google.com/assets/colab-badge.svg\" alt=\"Open In Colab\"/></a>"
      ]
    },
    {
      "cell_type": "code",
      "execution_count": null,
      "metadata": {
        "id": "Cab0HuSXQhzr"
      },
      "outputs": [],
      "source": [
        "!pip install transformers"
      ]
    },
    {
      "cell_type": "code",
      "execution_count": null,
      "metadata": {
        "id": "wx6FD4I2Q5lS"
      },
      "outputs": [],
      "source": [
        "import pandas as pd\n",
        "import numpy as np\n",
        "import time\n",
        "\n",
        "from sklearn.metrics import accuracy_score, f1_score"
      ]
    },
    {
      "cell_type": "code",
      "source": [
        "# mount Google Drive\n",
        "from google.colab import drive\n",
        "drive.mount('/content/gdrive')"
      ],
      "metadata": {
        "colab": {
          "base_uri": "https://localhost:8080/"
        },
        "id": "UlhtXNERSY07",
        "outputId": "68e20b31-8ae8-45ce-aff7-cf980746dd2b"
      },
      "execution_count": null,
      "outputs": [
        {
          "output_type": "stream",
          "name": "stdout",
          "text": [
            "Mounted at /content/gdrive\n"
          ]
        }
      ]
    },
    {
      "cell_type": "code",
      "execution_count": null,
      "metadata": {
        "id": "Nqlx270oQ9P8"
      },
      "outputs": [],
      "source": [
        "df = pd.read_json('/content/gdrive/MyDrive/Colab Notebooks/MSC_Project/Jan2020Frontiers_20_labels.jsonl',lines=True)"
      ]
    },
    {
      "cell_type": "code",
      "execution_count": null,
      "metadata": {
        "id": "C0Y4BiLFQ9MB",
        "colab": {
          "base_uri": "https://localhost:8080/",
          "height": 206
        },
        "outputId": "c635b47d-c4ff-4637-9daf-c9d01aa92fd4"
      },
      "outputs": [
        {
          "output_type": "execute_result",
          "data": {
            "text/plain": [
              "       id                                               text  \\\n",
              "0  465950  \\n Sleep Characteristics and Influencing Facto...   \n",
              "1  483526  A Hybrid Approach for Modeling Type 2 Diabetes...   \n",
              "2  437333  Environmental Health Research in Africa: Impor...   \n",
              "3  486515  \\n 3,5-T2—A Janus-Faced Thyroid Hormone Metabo...   \n",
              "4  488364  \\n Differential Regulation of LPS-Mediated VE-...   \n",
              "\n",
              "                                       journal  \\\n",
              "0                        Frontiers in Medicine   \n",
              "1                        Frontiers in Genetics   \n",
              "2                        Frontiers in Genetics   \n",
              "3                   Frontiers in Endocrinology   \n",
              "4  Frontiers in Cell and Developmental Biology   \n",
              "\n",
              "                            label  \\\n",
              "0                        Medicine   \n",
              "1                        Genetics   \n",
              "2                        Genetics   \n",
              "3                   Endocrinology   \n",
              "4  Cell and Developmental Biology   \n",
              "\n",
              "                                          clean_text  \n",
              "0  sleep characteristics and influencing factors ...  \n",
              "1  a hybrid approach for modeling type diabetes m...  \n",
              "2  environmental health research in africa: impor...  \n",
              "3  ,-—a janus-faced thyroid hormone metabolite ex...  \n",
              "4  differential regulation of lps-mediated ve-cad...  "
            ],
            "text/html": [
              "\n",
              "  <div id=\"df-1136baec-af1f-4413-9211-06fc211e9954\">\n",
              "    <div class=\"colab-df-container\">\n",
              "      <div>\n",
              "<style scoped>\n",
              "    .dataframe tbody tr th:only-of-type {\n",
              "        vertical-align: middle;\n",
              "    }\n",
              "\n",
              "    .dataframe tbody tr th {\n",
              "        vertical-align: top;\n",
              "    }\n",
              "\n",
              "    .dataframe thead th {\n",
              "        text-align: right;\n",
              "    }\n",
              "</style>\n",
              "<table border=\"1\" class=\"dataframe\">\n",
              "  <thead>\n",
              "    <tr style=\"text-align: right;\">\n",
              "      <th></th>\n",
              "      <th>id</th>\n",
              "      <th>text</th>\n",
              "      <th>journal</th>\n",
              "      <th>label</th>\n",
              "      <th>clean_text</th>\n",
              "    </tr>\n",
              "  </thead>\n",
              "  <tbody>\n",
              "    <tr>\n",
              "      <th>0</th>\n",
              "      <td>465950</td>\n",
              "      <td>\\n Sleep Characteristics and Influencing Facto...</td>\n",
              "      <td>Frontiers in Medicine</td>\n",
              "      <td>Medicine</td>\n",
              "      <td>sleep characteristics and influencing factors ...</td>\n",
              "    </tr>\n",
              "    <tr>\n",
              "      <th>1</th>\n",
              "      <td>483526</td>\n",
              "      <td>A Hybrid Approach for Modeling Type 2 Diabetes...</td>\n",
              "      <td>Frontiers in Genetics</td>\n",
              "      <td>Genetics</td>\n",
              "      <td>a hybrid approach for modeling type diabetes m...</td>\n",
              "    </tr>\n",
              "    <tr>\n",
              "      <th>2</th>\n",
              "      <td>437333</td>\n",
              "      <td>Environmental Health Research in Africa: Impor...</td>\n",
              "      <td>Frontiers in Genetics</td>\n",
              "      <td>Genetics</td>\n",
              "      <td>environmental health research in africa: impor...</td>\n",
              "    </tr>\n",
              "    <tr>\n",
              "      <th>3</th>\n",
              "      <td>486515</td>\n",
              "      <td>\\n 3,5-T2—A Janus-Faced Thyroid Hormone Metabo...</td>\n",
              "      <td>Frontiers in Endocrinology</td>\n",
              "      <td>Endocrinology</td>\n",
              "      <td>,-—a janus-faced thyroid hormone metabolite ex...</td>\n",
              "    </tr>\n",
              "    <tr>\n",
              "      <th>4</th>\n",
              "      <td>488364</td>\n",
              "      <td>\\n Differential Regulation of LPS-Mediated VE-...</td>\n",
              "      <td>Frontiers in Cell and Developmental Biology</td>\n",
              "      <td>Cell and Developmental Biology</td>\n",
              "      <td>differential regulation of lps-mediated ve-cad...</td>\n",
              "    </tr>\n",
              "  </tbody>\n",
              "</table>\n",
              "</div>\n",
              "      <button class=\"colab-df-convert\" onclick=\"convertToInteractive('df-1136baec-af1f-4413-9211-06fc211e9954')\"\n",
              "              title=\"Convert this dataframe to an interactive table.\"\n",
              "              style=\"display:none;\">\n",
              "        \n",
              "  <svg xmlns=\"http://www.w3.org/2000/svg\" height=\"24px\"viewBox=\"0 0 24 24\"\n",
              "       width=\"24px\">\n",
              "    <path d=\"M0 0h24v24H0V0z\" fill=\"none\"/>\n",
              "    <path d=\"M18.56 5.44l.94 2.06.94-2.06 2.06-.94-2.06-.94-.94-2.06-.94 2.06-2.06.94zm-11 1L8.5 8.5l.94-2.06 2.06-.94-2.06-.94L8.5 2.5l-.94 2.06-2.06.94zm10 10l.94 2.06.94-2.06 2.06-.94-2.06-.94-.94-2.06-.94 2.06-2.06.94z\"/><path d=\"M17.41 7.96l-1.37-1.37c-.4-.4-.92-.59-1.43-.59-.52 0-1.04.2-1.43.59L10.3 9.45l-7.72 7.72c-.78.78-.78 2.05 0 2.83L4 21.41c.39.39.9.59 1.41.59.51 0 1.02-.2 1.41-.59l7.78-7.78 2.81-2.81c.8-.78.8-2.07 0-2.86zM5.41 20L4 18.59l7.72-7.72 1.47 1.35L5.41 20z\"/>\n",
              "  </svg>\n",
              "      </button>\n",
              "      \n",
              "  <style>\n",
              "    .colab-df-container {\n",
              "      display:flex;\n",
              "      flex-wrap:wrap;\n",
              "      gap: 12px;\n",
              "    }\n",
              "\n",
              "    .colab-df-convert {\n",
              "      background-color: #E8F0FE;\n",
              "      border: none;\n",
              "      border-radius: 50%;\n",
              "      cursor: pointer;\n",
              "      display: none;\n",
              "      fill: #1967D2;\n",
              "      height: 32px;\n",
              "      padding: 0 0 0 0;\n",
              "      width: 32px;\n",
              "    }\n",
              "\n",
              "    .colab-df-convert:hover {\n",
              "      background-color: #E2EBFA;\n",
              "      box-shadow: 0px 1px 2px rgba(60, 64, 67, 0.3), 0px 1px 3px 1px rgba(60, 64, 67, 0.15);\n",
              "      fill: #174EA6;\n",
              "    }\n",
              "\n",
              "    [theme=dark] .colab-df-convert {\n",
              "      background-color: #3B4455;\n",
              "      fill: #D2E3FC;\n",
              "    }\n",
              "\n",
              "    [theme=dark] .colab-df-convert:hover {\n",
              "      background-color: #434B5C;\n",
              "      box-shadow: 0px 1px 3px 1px rgba(0, 0, 0, 0.15);\n",
              "      filter: drop-shadow(0px 1px 2px rgba(0, 0, 0, 0.3));\n",
              "      fill: #FFFFFF;\n",
              "    }\n",
              "  </style>\n",
              "\n",
              "      <script>\n",
              "        const buttonEl =\n",
              "          document.querySelector('#df-1136baec-af1f-4413-9211-06fc211e9954 button.colab-df-convert');\n",
              "        buttonEl.style.display =\n",
              "          google.colab.kernel.accessAllowed ? 'block' : 'none';\n",
              "\n",
              "        async function convertToInteractive(key) {\n",
              "          const element = document.querySelector('#df-1136baec-af1f-4413-9211-06fc211e9954');\n",
              "          const dataTable =\n",
              "            await google.colab.kernel.invokeFunction('convertToInteractive',\n",
              "                                                     [key], {});\n",
              "          if (!dataTable) return;\n",
              "\n",
              "          const docLinkHtml = 'Like what you see? Visit the ' +\n",
              "            '<a target=\"_blank\" href=https://colab.research.google.com/notebooks/data_table.ipynb>data table notebook</a>'\n",
              "            + ' to learn more about interactive tables.';\n",
              "          element.innerHTML = '';\n",
              "          dataTable['output_type'] = 'display_data';\n",
              "          await google.colab.output.renderOutput(dataTable, element);\n",
              "          const docLink = document.createElement('div');\n",
              "          docLink.innerHTML = docLinkHtml;\n",
              "          element.appendChild(docLink);\n",
              "        }\n",
              "      </script>\n",
              "    </div>\n",
              "  </div>\n",
              "  "
            ]
          },
          "metadata": {},
          "execution_count": 5
        }
      ],
      "source": [
        "df.head()"
      ]
    },
    {
      "cell_type": "code",
      "execution_count": null,
      "metadata": {
        "id": "dW0EqOipQ8zz"
      },
      "outputs": [],
      "source": [
        "candidate_labels = list(df.label.unique())"
      ]
    },
    {
      "cell_type": "code",
      "source": [
        "len(df), len(candidate_labels)"
      ],
      "metadata": {
        "colab": {
          "base_uri": "https://localhost:8080/"
        },
        "id": "qpx4ShaRKbyV",
        "outputId": "d3f2db39-a79e-4439-e79a-4126aef570cc"
      },
      "execution_count": null,
      "outputs": [
        {
          "output_type": "execute_result",
          "data": {
            "text/plain": [
              "(1101, 20)"
            ]
          },
          "metadata": {},
          "execution_count": 7
        }
      ]
    },
    {
      "cell_type": "markdown",
      "source": [
        "# SPLITTING DATA into TRAIN, VALIDATION and TEST sets"
      ],
      "metadata": {
        "id": "qsGhpgb_yf39"
      }
    },
    {
      "cell_type": "code",
      "source": [
        "from sklearn.model_selection import train_test_split"
      ],
      "metadata": {
        "id": "rTtxbHgkyozc"
      },
      "execution_count": null,
      "outputs": []
    },
    {
      "cell_type": "code",
      "source": [
        "train_texts, temp_texts, train_labels, temp_labels = train_test_split(df.clean_text, df.label, test_size=0.2, \n",
        "                                                                      random_state=42, stratify=df.label, shuffle=True)"
      ],
      "metadata": {
        "id": "FtVzlCidydn7"
      },
      "execution_count": null,
      "outputs": []
    },
    {
      "cell_type": "code",
      "source": [
        "val_texts, test_texts, val_labels, test_labels = train_test_split(temp_texts, temp_labels, test_size=0.5, \n",
        "                                                                  random_state=42, stratify=temp_labels, shuffle=True)"
      ],
      "metadata": {
        "id": "rMOonpX9ydbK"
      },
      "execution_count": null,
      "outputs": []
    },
    {
      "cell_type": "code",
      "source": [
        "# reset_indices\n",
        "train_texts.reset_index(drop=True, inplace=True), train_labels.reset_index(drop=True, inplace=True)\n",
        "val_texts.reset_index(drop=True, inplace=True), val_labels.reset_index(drop=True, inplace=True)\n",
        "test_texts.reset_index(drop=True, inplace=True), test_labels.reset_index(drop=True, inplace=True)"
      ],
      "metadata": {
        "colab": {
          "base_uri": "https://localhost:8080/"
        },
        "id": "Ij-CQY7Zy-je",
        "outputId": "ce3cfa7c-ef0e-445c-e849-7e4b42d4031b"
      },
      "execution_count": null,
      "outputs": [
        {
          "output_type": "execute_result",
          "data": {
            "text/plain": [
              "(None, None)"
            ]
          },
          "metadata": {},
          "execution_count": 15
        }
      ]
    },
    {
      "cell_type": "code",
      "source": [
        "test_texts"
      ],
      "metadata": {
        "colab": {
          "base_uri": "https://localhost:8080/"
        },
        "id": "ivwqTX4WXzSS",
        "outputId": "3d9980e7-fa20-44ee-ca58-10181a4ba5d8"
      },
      "execution_count": null,
      "outputs": [
        {
          "output_type": "execute_result",
          "data": {
            "text/plain": [
              "0      respiratory morbidity and lung function analys...\n",
              "1      flavor techniques for lfv processes: higgs dec...\n",
              "2      corrigendum: human milk oligosaccharide compos...\n",
              "3      obsessive–compulsive personality symptoms pred...\n",
              "4      blood-brain barrier and delivery of protein an...\n",
              "                             ...                        \n",
              "106    synergies between division of labor and gut mi...\n",
              "107    efficient and stable photocatalytic hydrogen e...\n",
              "108    the δ-opioid receptor differentially regulates...\n",
              "109    thalidomide in the treatment of sweet's syndro...\n",
              "110    investigating gray and white matter structural...\n",
              "Name: clean_text, Length: 111, dtype: object"
            ]
          },
          "metadata": {},
          "execution_count": 16
        }
      ]
    },
    {
      "cell_type": "code",
      "source": [
        "train_texts.shape, val_texts.shape, test_texts.shape"
      ],
      "metadata": {
        "colab": {
          "base_uri": "https://localhost:8080/"
        },
        "id": "bAO6fLc31Esg",
        "outputId": "bf9d8ad0-bc35-43b4-f857-32319919cae7"
      },
      "execution_count": null,
      "outputs": [
        {
          "output_type": "execute_result",
          "data": {
            "text/plain": [
              "((880,), (110,), (111,))"
            ]
          },
          "metadata": {},
          "execution_count": 17
        }
      ]
    },
    {
      "cell_type": "code",
      "source": [
        "# Each set contains samples from all classes\n",
        "len(train_labels.unique()), len(val_labels.unique()), len(test_labels.unique())"
      ],
      "metadata": {
        "colab": {
          "base_uri": "https://localhost:8080/"
        },
        "id": "IZIqLGCO2moV",
        "outputId": "beca821f-34e4-4f69-f459-95cd34e67d57"
      },
      "execution_count": null,
      "outputs": [
        {
          "output_type": "execute_result",
          "data": {
            "text/plain": [
              "(20, 20, 20)"
            ]
          },
          "metadata": {},
          "execution_count": 19
        }
      ]
    },
    {
      "cell_type": "markdown",
      "source": [
        "### Each set is a representative sample with equal distribution for all classes"
      ],
      "metadata": {
        "id": "UO_BG3Ga6ABm"
      }
    },
    {
      "cell_type": "code",
      "source": [
        "pd.DataFrame([train_labels.value_counts(), val_labels.value_counts(), test_labels.value_counts()], \n",
        "             index=['Train', 'Val', 'Test']).T"
      ],
      "metadata": {
        "colab": {
          "base_uri": "https://localhost:8080/",
          "height": 676
        },
        "id": "_GOuCSHM3KC8",
        "outputId": "3a431f69-3c94-489f-e7b1-0731da9ef376"
      },
      "execution_count": null,
      "outputs": [
        {
          "output_type": "execute_result",
          "data": {
            "text/plain": [
              "                                     Train  Val  Test\n",
              "Physiology                              84   10    11\n",
              "Genetics                                79   10    10\n",
              "Neuroscience                            71    9     9\n",
              "Psychiatry                              69    8     9\n",
              "Neurology                               61    7     8\n",
              "Chemistry                               55    7     7\n",
              "Marine Science                          51    6     7\n",
              "Bioengineering and Biotechnology        45    5     6\n",
              "Endocrinology                           42    5     6\n",
              "Cell and Developmental Biology          38    5     4\n",
              "Cellular and Infection Microbiology     37    5     4\n",
              "Veterinary Science                      36    5     4\n",
              "Medicine                                35    4     5\n",
              "Pediatrics                              34    4     5\n",
              "Physics                                 28    4     3\n",
              "Ecology and Evolution                   27    4     3\n",
              "Aging Neuroscience                      23    3     3\n",
              "Public Health                           23    3     3\n",
              "Cellular Neuroscience                   21    3     2\n",
              "Earth Science                           21    3     2"
            ],
            "text/html": [
              "\n",
              "  <div id=\"df-878e999e-b017-417e-9360-ac0886c3b34a\">\n",
              "    <div class=\"colab-df-container\">\n",
              "      <div>\n",
              "<style scoped>\n",
              "    .dataframe tbody tr th:only-of-type {\n",
              "        vertical-align: middle;\n",
              "    }\n",
              "\n",
              "    .dataframe tbody tr th {\n",
              "        vertical-align: top;\n",
              "    }\n",
              "\n",
              "    .dataframe thead th {\n",
              "        text-align: right;\n",
              "    }\n",
              "</style>\n",
              "<table border=\"1\" class=\"dataframe\">\n",
              "  <thead>\n",
              "    <tr style=\"text-align: right;\">\n",
              "      <th></th>\n",
              "      <th>Train</th>\n",
              "      <th>Val</th>\n",
              "      <th>Test</th>\n",
              "    </tr>\n",
              "  </thead>\n",
              "  <tbody>\n",
              "    <tr>\n",
              "      <th>Physiology</th>\n",
              "      <td>84</td>\n",
              "      <td>10</td>\n",
              "      <td>11</td>\n",
              "    </tr>\n",
              "    <tr>\n",
              "      <th>Genetics</th>\n",
              "      <td>79</td>\n",
              "      <td>10</td>\n",
              "      <td>10</td>\n",
              "    </tr>\n",
              "    <tr>\n",
              "      <th>Neuroscience</th>\n",
              "      <td>71</td>\n",
              "      <td>9</td>\n",
              "      <td>9</td>\n",
              "    </tr>\n",
              "    <tr>\n",
              "      <th>Psychiatry</th>\n",
              "      <td>69</td>\n",
              "      <td>8</td>\n",
              "      <td>9</td>\n",
              "    </tr>\n",
              "    <tr>\n",
              "      <th>Neurology</th>\n",
              "      <td>61</td>\n",
              "      <td>7</td>\n",
              "      <td>8</td>\n",
              "    </tr>\n",
              "    <tr>\n",
              "      <th>Chemistry</th>\n",
              "      <td>55</td>\n",
              "      <td>7</td>\n",
              "      <td>7</td>\n",
              "    </tr>\n",
              "    <tr>\n",
              "      <th>Marine Science</th>\n",
              "      <td>51</td>\n",
              "      <td>6</td>\n",
              "      <td>7</td>\n",
              "    </tr>\n",
              "    <tr>\n",
              "      <th>Bioengineering and Biotechnology</th>\n",
              "      <td>45</td>\n",
              "      <td>5</td>\n",
              "      <td>6</td>\n",
              "    </tr>\n",
              "    <tr>\n",
              "      <th>Endocrinology</th>\n",
              "      <td>42</td>\n",
              "      <td>5</td>\n",
              "      <td>6</td>\n",
              "    </tr>\n",
              "    <tr>\n",
              "      <th>Cell and Developmental Biology</th>\n",
              "      <td>38</td>\n",
              "      <td>5</td>\n",
              "      <td>4</td>\n",
              "    </tr>\n",
              "    <tr>\n",
              "      <th>Cellular and Infection Microbiology</th>\n",
              "      <td>37</td>\n",
              "      <td>5</td>\n",
              "      <td>4</td>\n",
              "    </tr>\n",
              "    <tr>\n",
              "      <th>Veterinary Science</th>\n",
              "      <td>36</td>\n",
              "      <td>5</td>\n",
              "      <td>4</td>\n",
              "    </tr>\n",
              "    <tr>\n",
              "      <th>Medicine</th>\n",
              "      <td>35</td>\n",
              "      <td>4</td>\n",
              "      <td>5</td>\n",
              "    </tr>\n",
              "    <tr>\n",
              "      <th>Pediatrics</th>\n",
              "      <td>34</td>\n",
              "      <td>4</td>\n",
              "      <td>5</td>\n",
              "    </tr>\n",
              "    <tr>\n",
              "      <th>Physics</th>\n",
              "      <td>28</td>\n",
              "      <td>4</td>\n",
              "      <td>3</td>\n",
              "    </tr>\n",
              "    <tr>\n",
              "      <th>Ecology and Evolution</th>\n",
              "      <td>27</td>\n",
              "      <td>4</td>\n",
              "      <td>3</td>\n",
              "    </tr>\n",
              "    <tr>\n",
              "      <th>Aging Neuroscience</th>\n",
              "      <td>23</td>\n",
              "      <td>3</td>\n",
              "      <td>3</td>\n",
              "    </tr>\n",
              "    <tr>\n",
              "      <th>Public Health</th>\n",
              "      <td>23</td>\n",
              "      <td>3</td>\n",
              "      <td>3</td>\n",
              "    </tr>\n",
              "    <tr>\n",
              "      <th>Cellular Neuroscience</th>\n",
              "      <td>21</td>\n",
              "      <td>3</td>\n",
              "      <td>2</td>\n",
              "    </tr>\n",
              "    <tr>\n",
              "      <th>Earth Science</th>\n",
              "      <td>21</td>\n",
              "      <td>3</td>\n",
              "      <td>2</td>\n",
              "    </tr>\n",
              "  </tbody>\n",
              "</table>\n",
              "</div>\n",
              "      <button class=\"colab-df-convert\" onclick=\"convertToInteractive('df-878e999e-b017-417e-9360-ac0886c3b34a')\"\n",
              "              title=\"Convert this dataframe to an interactive table.\"\n",
              "              style=\"display:none;\">\n",
              "        \n",
              "  <svg xmlns=\"http://www.w3.org/2000/svg\" height=\"24px\"viewBox=\"0 0 24 24\"\n",
              "       width=\"24px\">\n",
              "    <path d=\"M0 0h24v24H0V0z\" fill=\"none\"/>\n",
              "    <path d=\"M18.56 5.44l.94 2.06.94-2.06 2.06-.94-2.06-.94-.94-2.06-.94 2.06-2.06.94zm-11 1L8.5 8.5l.94-2.06 2.06-.94-2.06-.94L8.5 2.5l-.94 2.06-2.06.94zm10 10l.94 2.06.94-2.06 2.06-.94-2.06-.94-.94-2.06-.94 2.06-2.06.94z\"/><path d=\"M17.41 7.96l-1.37-1.37c-.4-.4-.92-.59-1.43-.59-.52 0-1.04.2-1.43.59L10.3 9.45l-7.72 7.72c-.78.78-.78 2.05 0 2.83L4 21.41c.39.39.9.59 1.41.59.51 0 1.02-.2 1.41-.59l7.78-7.78 2.81-2.81c.8-.78.8-2.07 0-2.86zM5.41 20L4 18.59l7.72-7.72 1.47 1.35L5.41 20z\"/>\n",
              "  </svg>\n",
              "      </button>\n",
              "      \n",
              "  <style>\n",
              "    .colab-df-container {\n",
              "      display:flex;\n",
              "      flex-wrap:wrap;\n",
              "      gap: 12px;\n",
              "    }\n",
              "\n",
              "    .colab-df-convert {\n",
              "      background-color: #E8F0FE;\n",
              "      border: none;\n",
              "      border-radius: 50%;\n",
              "      cursor: pointer;\n",
              "      display: none;\n",
              "      fill: #1967D2;\n",
              "      height: 32px;\n",
              "      padding: 0 0 0 0;\n",
              "      width: 32px;\n",
              "    }\n",
              "\n",
              "    .colab-df-convert:hover {\n",
              "      background-color: #E2EBFA;\n",
              "      box-shadow: 0px 1px 2px rgba(60, 64, 67, 0.3), 0px 1px 3px 1px rgba(60, 64, 67, 0.15);\n",
              "      fill: #174EA6;\n",
              "    }\n",
              "\n",
              "    [theme=dark] .colab-df-convert {\n",
              "      background-color: #3B4455;\n",
              "      fill: #D2E3FC;\n",
              "    }\n",
              "\n",
              "    [theme=dark] .colab-df-convert:hover {\n",
              "      background-color: #434B5C;\n",
              "      box-shadow: 0px 1px 3px 1px rgba(0, 0, 0, 0.15);\n",
              "      filter: drop-shadow(0px 1px 2px rgba(0, 0, 0, 0.3));\n",
              "      fill: #FFFFFF;\n",
              "    }\n",
              "  </style>\n",
              "\n",
              "      <script>\n",
              "        const buttonEl =\n",
              "          document.querySelector('#df-878e999e-b017-417e-9360-ac0886c3b34a button.colab-df-convert');\n",
              "        buttonEl.style.display =\n",
              "          google.colab.kernel.accessAllowed ? 'block' : 'none';\n",
              "\n",
              "        async function convertToInteractive(key) {\n",
              "          const element = document.querySelector('#df-878e999e-b017-417e-9360-ac0886c3b34a');\n",
              "          const dataTable =\n",
              "            await google.colab.kernel.invokeFunction('convertToInteractive',\n",
              "                                                     [key], {});\n",
              "          if (!dataTable) return;\n",
              "\n",
              "          const docLinkHtml = 'Like what you see? Visit the ' +\n",
              "            '<a target=\"_blank\" href=https://colab.research.google.com/notebooks/data_table.ipynb>data table notebook</a>'\n",
              "            + ' to learn more about interactive tables.';\n",
              "          element.innerHTML = '';\n",
              "          dataTable['output_type'] = 'display_data';\n",
              "          await google.colab.output.renderOutput(dataTable, element);\n",
              "          const docLink = document.createElement('div');\n",
              "          docLink.innerHTML = docLinkHtml;\n",
              "          element.appendChild(docLink);\n",
              "        }\n",
              "      </script>\n",
              "    </div>\n",
              "  </div>\n",
              "  "
            ]
          },
          "metadata": {},
          "execution_count": 20
        }
      ]
    },
    {
      "cell_type": "code",
      "source": [
        "from transformers import AutoTokenizer\n",
        "\n",
        "tokenizer = AutoTokenizer.from_pretrained('typeform/distilbert-base-uncased-mnli')"
      ],
      "metadata": {
        "colab": {
          "base_uri": "https://localhost:8080/"
        },
        "id": "V7ES8-PVsjKn",
        "outputId": "6640de32-a381-43eb-807d-7715903685a1"
      },
      "execution_count": null,
      "outputs": [
        {
          "output_type": "stream",
          "name": "stderr",
          "text": [
            "The `xla_device` argument has been deprecated in v4.4.0 of Transformers. It is ignored and you can safely remove it from your `config.json` file.\n",
            "The `xla_device` argument has been deprecated in v4.4.0 of Transformers. It is ignored and you can safely remove it from your `config.json` file.\n",
            "The `xla_device` argument has been deprecated in v4.4.0 of Transformers. It is ignored and you can safely remove it from your `config.json` file.\n"
          ]
        }
      ]
    },
    {
      "cell_type": "code",
      "source": [
        "from transformers import pipeline\n",
        "\n",
        "classifier_gpu = pipeline(\"zero-shot-classification\", device=0, model='typeform/distilbert-base-uncased-mnli') # to utilize GPU"
      ],
      "metadata": {
        "colab": {
          "base_uri": "https://localhost:8080/",
          "height": 136,
          "referenced_widgets": [
            "117f92fc27d54856ac200ab3452c64e3",
            "7d765b9fdb4f4388aa4e6f487af21e31",
            "63904e9af89f490e8efbf324e96db249",
            "234811c751ed45cbb3e8482d4a55cd94",
            "3854a8a411d24435b3c1374c22c23342",
            "e231880ae8a94868b643b8cbec25974e",
            "99f4d443d85245fca89bc8ed1f666099",
            "fa46b7137ad74da594636f53da7fcc80",
            "b1d7e53a0ae848209bf453d65d402802",
            "ee548ea0a4b74756a3987e06c0440e8d",
            "709b7cb510a64ca18852e1be88a1a417"
          ]
        },
        "id": "cPBJxFy-XBp7",
        "outputId": "394a7f40-8aa9-4688-ea29-4bd5f9814096"
      },
      "execution_count": null,
      "outputs": [
        {
          "output_type": "stream",
          "name": "stderr",
          "text": [
            "The `xla_device` argument has been deprecated in v4.4.0 of Transformers. It is ignored and you can safely remove it from your `config.json` file.\n",
            "The `xla_device` argument has been deprecated in v4.4.0 of Transformers. It is ignored and you can safely remove it from your `config.json` file.\n"
          ]
        },
        {
          "output_type": "display_data",
          "data": {
            "text/plain": [
              "Downloading:   0%|          | 0.00/268M [00:00<?, ?B/s]"
            ],
            "application/vnd.jupyter.widget-view+json": {
              "version_major": 2,
              "version_minor": 0,
              "model_id": "117f92fc27d54856ac200ab3452c64e3"
            }
          },
          "metadata": {}
        },
        {
          "output_type": "stream",
          "name": "stderr",
          "text": [
            "The `xla_device` argument has been deprecated in v4.4.0 of Transformers. It is ignored and you can safely remove it from your `config.json` file.\n",
            "The `xla_device` argument has been deprecated in v4.4.0 of Transformers. It is ignored and you can safely remove it from your `config.json` file.\n",
            "The `xla_device` argument has been deprecated in v4.4.0 of Transformers. It is ignored and you can safely remove it from your `config.json` file.\n"
          ]
        }
      ]
    },
    {
      "cell_type": "markdown",
      "source": [
        "# Split long text into chunks of size less than 512 (chosen 256)"
      ],
      "metadata": {
        "id": "RtcH-FuRRJR3"
      }
    },
    {
      "cell_type": "code",
      "source": [
        "def split_sequence(sequence):\n",
        "  tokens = tokenizer.tokenize(sequence)\n",
        "  chunks = [tokens[x:x+256] for x in range(0, len(tokens), 256)]\n",
        "  return [' '.join(x).replace('##', '') for x in chunks]"
      ],
      "metadata": {
        "id": "VcvKCk7st82-"
      },
      "execution_count": null,
      "outputs": []
    },
    {
      "cell_type": "code",
      "source": [
        "test_data_split = test_texts.apply(split_sequence)"
      ],
      "metadata": {
        "id": "kb-9rDMat80H"
      },
      "execution_count": null,
      "outputs": []
    },
    {
      "cell_type": "code",
      "source": [
        "test_data_split.head()"
      ],
      "metadata": {
        "colab": {
          "base_uri": "https://localhost:8080/"
        },
        "id": "4wgGQ6N7Cpn7",
        "outputId": "27570f9d-e84a-42e4-9bee-d99822e59c8e"
      },
      "execution_count": null,
      "outputs": [
        {
          "output_type": "execute_result",
          "data": {
            "text/plain": [
              "0    [respiratory mor bid ity and lung function ana...\n",
              "1    [flavor techniques for l f v processes : hi gg...\n",
              "2    [co rri gen du m : human milk ol igo sa cc har...\n",
              "3    [ob ses sive – com pu ls ive personality sympt...\n",
              "4    [blood - brain barrier and delivery of protein...\n",
              "Name: clean_text, dtype: object"
            ]
          },
          "metadata": {},
          "execution_count": 51
        }
      ]
    },
    {
      "cell_type": "markdown",
      "source": [
        "# Zero-shot classification with Hugging Face Pipeline"
      ],
      "metadata": {
        "id": "4LSZv4BdSpxm"
      }
    },
    {
      "cell_type": "markdown",
      "source": [
        "## Results when Classifier only considers FIRST 512 tokens (truncates sentence) of each TEST sample"
      ],
      "metadata": {
        "id": "TI26d_1RTI4z"
      }
    },
    {
      "cell_type": "code",
      "source": [
        "test_sequences = list(test_texts)    # NOT SPLIT TEST DATA\n",
        "\n",
        "candidate_labels = list(df.label.unique())\n",
        "\n",
        "results = classifier_gpu(test_sequences, candidate_labels, batch_size=1) # Sequence is a list of list of sentences, but classifier only takes first sentence from inner list\n",
        "\n",
        "scores_df = pd.DataFrame(results, columns=['labels', 'scores'])"
      ],
      "metadata": {
        "id": "29iOYteATHw4"
      },
      "execution_count": null,
      "outputs": []
    },
    {
      "cell_type": "code",
      "source": [
        "pred_labels_512 = scores_df['labels'].apply(lambda x: x[0]) # The label with the highest score for each sample is the predicted label"
      ],
      "metadata": {
        "id": "WR-SrBuLTbAL"
      },
      "execution_count": null,
      "outputs": []
    },
    {
      "cell_type": "markdown",
      "source": [
        "### Accuracy score for Test Data, with default truncation to 512"
      ],
      "metadata": {
        "id": "97zk2a0NTq44"
      }
    },
    {
      "cell_type": "code",
      "source": [
        "accuracy_test_data_512 = accuracy_score(test_labels, pred_labels_512)\n",
        "f1_score_test_data_512 = f1_score(test_labels, pred_labels_512, average='macro')\n",
        "print(f'Test data with only first 512 tokens -> Accuracy: {accuracy_test_data_512*100:.2f}, F1_score: {f1_score_test_data_512*100:.2f}')"
      ],
      "metadata": {
        "colab": {
          "base_uri": "https://localhost:8080/"
        },
        "id": "KcF4OmjgTnBq",
        "outputId": "adc9bb58-33e9-4f4d-ff80-99cf55d849a2"
      },
      "execution_count": null,
      "outputs": [
        {
          "output_type": "stream",
          "name": "stdout",
          "text": [
            "Test data with only first 512 tokens -> Accuracy: 7.21, F1_score: 4.24\n"
          ]
        }
      ]
    },
    {
      "cell_type": "markdown",
      "source": [
        "## For Entire long_text samples with default batch_size=8"
      ],
      "metadata": {
        "id": "Y_EX5Pu_S1xU"
      }
    },
    {
      "cell_type": "code",
      "source": [
        "# Create lists to store predicted labels\n",
        "pred_labels_count_list = []\n",
        "pred_labels_prob_list = []\n",
        "\n",
        "start = time.perf_counter()\n",
        "\n",
        "for ix, long_text in enumerate(test_data_split):\n",
        "\n",
        "  start_time = time.perf_counter()\n",
        "\n",
        "  print(f'Sample {ix}: True Label: {test_labels[ix]}')\n",
        "\n",
        "  prob_score_dict = dict.fromkeys(candidate_labels, 0)\n",
        "\n",
        "  result = classifier_gpu(long_text, candidate_labels, batch_size=8)\n",
        "  \n",
        "  for index in range(len(long_text)):\n",
        "    # Create a temporary dict for storing probability scores corresponding to each label, for each chunk\n",
        "    prob_score_chunk = dict(zip(result[index]['labels'], result[index]['scores']))\n",
        "    for label in prob_score_dict:\n",
        "      # Add and update probability score received for each chunk, to get overall score for the entire text sample\n",
        "      prob_score_dict[label] += prob_score_chunk[label]\n",
        "\n",
        "  max_prob_label = max(prob_score_dict, key=prob_score_dict.get)\n",
        "\n",
        "  # print('Predicted label based on highest probabilty score:', max_prob_label)\n",
        "  \n",
        "  score_df = pd.DataFrame(result, columns=['labels', 'scores'])\n",
        "\n",
        "  # Get the labels with highest score(one at index '0') (for each sub-sentence)\n",
        "  # Then get the label occuring first, the most time (chosen as the label for the main sentence)\n",
        "  most_count_label = score_df['labels'].apply(lambda x: x[0]).value_counts().index[0] \n",
        "  \n",
        "  # print('Predicted label based on most first occurence count:', most_count_label)\n",
        "  \n",
        "  pred_labels_count_list.append(most_count_label)\n",
        "  pred_labels_prob_list.append(max_prob_label)\n",
        "\n",
        "  stop_time = time.perf_counter() \n",
        "  # print(f'Run time for sample {ix}: {(stop_time - start_time):.2f}')\n",
        "\n",
        "stop = time.perf_counter()\n",
        "runtime = stop-start\n",
        "# print(f'Total run time: {runtime:.2f}')"
      ],
      "metadata": {
        "id": "PlKL_Dq5Sofl"
      },
      "execution_count": null,
      "outputs": []
    },
    {
      "cell_type": "markdown",
      "source": [
        "# Accuracy and F1 Score results for TEST Data"
      ],
      "metadata": {
        "id": "1CzlDiUuaGYc"
      }
    },
    {
      "cell_type": "code",
      "source": [
        "# Results for TEST Dataset with only first 512 tokens\n",
        "accuracy_test_data_512 = accuracy_score(test_labels, pred_labels_512)\n",
        "f1_score_test_data_512 = f1_score(test_labels, pred_labels_512, average='macro')\n",
        "print(f'Test data only first 512 -> Accuracy: {accuracy_test_data_512*100:.2f}, F1_score: {f1_score_test_data_512*100:.2f}')\n",
        "\n",
        "\n",
        "# pred_labels_count_list  # For ENTIRE long_text DATA\n",
        "accuracy_count = accuracy_score(test_labels, pred_labels_count_list)\n",
        "f1_score_count = f1_score(test_labels, pred_labels_count_list, average='macro')\n",
        "print(f'Test data long text (most first position count) -> Accuracy: {accuracy_count*100:.2f}, F1_score: {f1_score_count*100:.2f}')\n",
        "\n",
        "\n",
        "# pred_labels_count_list  # For ENTIRE long_text DATA\n",
        "\n",
        "accuracy_prob = accuracy_score(test_labels, pred_labels_prob_list)\n",
        "f1_score_prob = f1_score(test_labels, pred_labels_prob_list, average='macro')\n",
        "print(f'Test data long text (highest probability sum) -> Accuracy: {accuracy_prob*100:.2f}, F1_score: {f1_score_prob*100:.2f}')\n"
      ],
      "metadata": {
        "colab": {
          "base_uri": "https://localhost:8080/"
        },
        "id": "qmCoErUmtBvJ",
        "outputId": "eadc9342-7337-4a5a-9e25-7c2a232d374a"
      },
      "execution_count": null,
      "outputs": [
        {
          "output_type": "stream",
          "name": "stdout",
          "text": [
            "Test data only first 512 -> Accuracy: 7.21, F1_score: 4.24\n",
            "Test data long text (most first position count) -> Accuracy: 20.72, F1_score: 17.18\n",
            "Test data long text (highest probability sum) -> Accuracy: 19.82, F1_score: 15.00\n"
          ]
        }
      ]
    },
    {
      "cell_type": "code",
      "source": [
        "zero_shot_metrics_table_df = pd.DataFrame(data=([np.round(accuracy_test_data_512*100,2),\n",
        "                    np.round(f1_score_test_data_512*100,2)],\n",
        "                   [np.round(accuracy_count*100,2),\n",
        "                    np.round(f1_score_count*100,2)],\n",
        "                   [np.round(accuracy_prob*100,2),\n",
        "                    np.round(f1_score_prob*100,2)]), \n",
        "                    columns=['Accuracy', 'F1_score'], \n",
        "                    index=['Only first 512', 'Long text (most first position count)', 'Long text (highest probability sum)'])\n",
        "\n",
        "zero_shot_metrics_table_df"
      ],
      "metadata": {
        "colab": {
          "base_uri": "https://localhost:8080/",
          "height": 143
        },
        "id": "q5GVMbDOgKZg",
        "outputId": "96222afb-279e-42ef-b8b0-adf67e7028ac"
      },
      "execution_count": null,
      "outputs": [
        {
          "output_type": "execute_result",
          "data": {
            "text/plain": [
              "                                       Accuracy  F1_score\n",
              "Only first 512                             7.21      4.24\n",
              "Long text (most first position count)     20.72     17.18\n",
              "Long text (highest probability sum)       19.82     15.00"
            ],
            "text/html": [
              "\n",
              "  <div id=\"df-fc7cbae4-36fe-4755-a834-d24a439ae18f\">\n",
              "    <div class=\"colab-df-container\">\n",
              "      <div>\n",
              "<style scoped>\n",
              "    .dataframe tbody tr th:only-of-type {\n",
              "        vertical-align: middle;\n",
              "    }\n",
              "\n",
              "    .dataframe tbody tr th {\n",
              "        vertical-align: top;\n",
              "    }\n",
              "\n",
              "    .dataframe thead th {\n",
              "        text-align: right;\n",
              "    }\n",
              "</style>\n",
              "<table border=\"1\" class=\"dataframe\">\n",
              "  <thead>\n",
              "    <tr style=\"text-align: right;\">\n",
              "      <th></th>\n",
              "      <th>Accuracy</th>\n",
              "      <th>F1_score</th>\n",
              "    </tr>\n",
              "  </thead>\n",
              "  <tbody>\n",
              "    <tr>\n",
              "      <th>Only first 512</th>\n",
              "      <td>7.21</td>\n",
              "      <td>4.24</td>\n",
              "    </tr>\n",
              "    <tr>\n",
              "      <th>Long text (most first position count)</th>\n",
              "      <td>20.72</td>\n",
              "      <td>17.18</td>\n",
              "    </tr>\n",
              "    <tr>\n",
              "      <th>Long text (highest probability sum)</th>\n",
              "      <td>19.82</td>\n",
              "      <td>15.00</td>\n",
              "    </tr>\n",
              "  </tbody>\n",
              "</table>\n",
              "</div>\n",
              "      <button class=\"colab-df-convert\" onclick=\"convertToInteractive('df-fc7cbae4-36fe-4755-a834-d24a439ae18f')\"\n",
              "              title=\"Convert this dataframe to an interactive table.\"\n",
              "              style=\"display:none;\">\n",
              "        \n",
              "  <svg xmlns=\"http://www.w3.org/2000/svg\" height=\"24px\"viewBox=\"0 0 24 24\"\n",
              "       width=\"24px\">\n",
              "    <path d=\"M0 0h24v24H0V0z\" fill=\"none\"/>\n",
              "    <path d=\"M18.56 5.44l.94 2.06.94-2.06 2.06-.94-2.06-.94-.94-2.06-.94 2.06-2.06.94zm-11 1L8.5 8.5l.94-2.06 2.06-.94-2.06-.94L8.5 2.5l-.94 2.06-2.06.94zm10 10l.94 2.06.94-2.06 2.06-.94-2.06-.94-.94-2.06-.94 2.06-2.06.94z\"/><path d=\"M17.41 7.96l-1.37-1.37c-.4-.4-.92-.59-1.43-.59-.52 0-1.04.2-1.43.59L10.3 9.45l-7.72 7.72c-.78.78-.78 2.05 0 2.83L4 21.41c.39.39.9.59 1.41.59.51 0 1.02-.2 1.41-.59l7.78-7.78 2.81-2.81c.8-.78.8-2.07 0-2.86zM5.41 20L4 18.59l7.72-7.72 1.47 1.35L5.41 20z\"/>\n",
              "  </svg>\n",
              "      </button>\n",
              "      \n",
              "  <style>\n",
              "    .colab-df-container {\n",
              "      display:flex;\n",
              "      flex-wrap:wrap;\n",
              "      gap: 12px;\n",
              "    }\n",
              "\n",
              "    .colab-df-convert {\n",
              "      background-color: #E8F0FE;\n",
              "      border: none;\n",
              "      border-radius: 50%;\n",
              "      cursor: pointer;\n",
              "      display: none;\n",
              "      fill: #1967D2;\n",
              "      height: 32px;\n",
              "      padding: 0 0 0 0;\n",
              "      width: 32px;\n",
              "    }\n",
              "\n",
              "    .colab-df-convert:hover {\n",
              "      background-color: #E2EBFA;\n",
              "      box-shadow: 0px 1px 2px rgba(60, 64, 67, 0.3), 0px 1px 3px 1px rgba(60, 64, 67, 0.15);\n",
              "      fill: #174EA6;\n",
              "    }\n",
              "\n",
              "    [theme=dark] .colab-df-convert {\n",
              "      background-color: #3B4455;\n",
              "      fill: #D2E3FC;\n",
              "    }\n",
              "\n",
              "    [theme=dark] .colab-df-convert:hover {\n",
              "      background-color: #434B5C;\n",
              "      box-shadow: 0px 1px 3px 1px rgba(0, 0, 0, 0.15);\n",
              "      filter: drop-shadow(0px 1px 2px rgba(0, 0, 0, 0.3));\n",
              "      fill: #FFFFFF;\n",
              "    }\n",
              "  </style>\n",
              "\n",
              "      <script>\n",
              "        const buttonEl =\n",
              "          document.querySelector('#df-fc7cbae4-36fe-4755-a834-d24a439ae18f button.colab-df-convert');\n",
              "        buttonEl.style.display =\n",
              "          google.colab.kernel.accessAllowed ? 'block' : 'none';\n",
              "\n",
              "        async function convertToInteractive(key) {\n",
              "          const element = document.querySelector('#df-fc7cbae4-36fe-4755-a834-d24a439ae18f');\n",
              "          const dataTable =\n",
              "            await google.colab.kernel.invokeFunction('convertToInteractive',\n",
              "                                                     [key], {});\n",
              "          if (!dataTable) return;\n",
              "\n",
              "          const docLinkHtml = 'Like what you see? Visit the ' +\n",
              "            '<a target=\"_blank\" href=https://colab.research.google.com/notebooks/data_table.ipynb>data table notebook</a>'\n",
              "            + ' to learn more about interactive tables.';\n",
              "          element.innerHTML = '';\n",
              "          dataTable['output_type'] = 'display_data';\n",
              "          await google.colab.output.renderOutput(dataTable, element);\n",
              "          const docLink = document.createElement('div');\n",
              "          docLink.innerHTML = docLinkHtml;\n",
              "          element.appendChild(docLink);\n",
              "        }\n",
              "      </script>\n",
              "    </div>\n",
              "  </div>\n",
              "  "
            ]
          },
          "metadata": {},
          "execution_count": 54
        }
      ]
    },
    {
      "cell_type": "code",
      "source": [
        "test_data_results_df = pd.DataFrame([test_texts, test_data_split, test_labels, \n",
        "                                     np.array(pred_labels_count_list), np.array(pred_labels_prob_list), pred_labels_512],\n",
        "                                     index=['text', 'clean_split_text', 'true_label', 'pred_label_count', 'pred_label_prob', 'pred_label_512']).T\n",
        "test_data_results_df.head()"
      ],
      "metadata": {
        "id": "jc1NNLF9eXVD",
        "colab": {
          "base_uri": "https://localhost:8080/",
          "height": 206
        },
        "outputId": "2e9ea4ce-0eb6-4a99-a257-05cce97805b2"
      },
      "execution_count": null,
      "outputs": [
        {
          "output_type": "execute_result",
          "data": {
            "text/plain": [
              "                                                text  \\\n",
              "0  respiratory morbidity and lung function analys...   \n",
              "1  flavor techniques for lfv processes: higgs dec...   \n",
              "2  corrigendum: human milk oligosaccharide compos...   \n",
              "3  obsessive–compulsive personality symptoms pred...   \n",
              "4  blood-brain barrier and delivery of protein an...   \n",
              "\n",
              "                                    clean_split_text          true_label  \\\n",
              "0  [respiratory mor bid ity and lung function ana...          Pediatrics   \n",
              "1  [flavor techniques for l f v processes : hi gg...             Physics   \n",
              "2  [co rri gen du m : human milk ol igo sa cc har...          Pediatrics   \n",
              "3  [ob ses sive – com pu ls ive personality sympt...          Psychiatry   \n",
              "4  [blood - brain barrier and delivery of protein...  Aging Neuroscience   \n",
              "\n",
              "        pred_label_count                      pred_label_prob  \\\n",
              "0     Aging Neuroscience  Cellular and Infection Microbiology   \n",
              "1     Aging Neuroscience                   Aging Neuroscience   \n",
              "2     Aging Neuroscience                   Aging Neuroscience   \n",
              "3             Psychiatry                           Psychiatry   \n",
              "4  Cellular Neuroscience                Cellular Neuroscience   \n",
              "\n",
              "                     pred_label_512  \n",
              "0  Bioengineering and Biotechnology  \n",
              "1                          Medicine  \n",
              "2  Bioengineering and Biotechnology  \n",
              "3             Ecology and Evolution  \n",
              "4                          Genetics  "
            ],
            "text/html": [
              "\n",
              "  <div id=\"df-e3e77195-9bb4-4f6d-a799-5899961c089b\">\n",
              "    <div class=\"colab-df-container\">\n",
              "      <div>\n",
              "<style scoped>\n",
              "    .dataframe tbody tr th:only-of-type {\n",
              "        vertical-align: middle;\n",
              "    }\n",
              "\n",
              "    .dataframe tbody tr th {\n",
              "        vertical-align: top;\n",
              "    }\n",
              "\n",
              "    .dataframe thead th {\n",
              "        text-align: right;\n",
              "    }\n",
              "</style>\n",
              "<table border=\"1\" class=\"dataframe\">\n",
              "  <thead>\n",
              "    <tr style=\"text-align: right;\">\n",
              "      <th></th>\n",
              "      <th>text</th>\n",
              "      <th>clean_split_text</th>\n",
              "      <th>true_label</th>\n",
              "      <th>pred_label_count</th>\n",
              "      <th>pred_label_prob</th>\n",
              "      <th>pred_label_512</th>\n",
              "    </tr>\n",
              "  </thead>\n",
              "  <tbody>\n",
              "    <tr>\n",
              "      <th>0</th>\n",
              "      <td>respiratory morbidity and lung function analys...</td>\n",
              "      <td>[respiratory mor bid ity and lung function ana...</td>\n",
              "      <td>Pediatrics</td>\n",
              "      <td>Aging Neuroscience</td>\n",
              "      <td>Cellular and Infection Microbiology</td>\n",
              "      <td>Bioengineering and Biotechnology</td>\n",
              "    </tr>\n",
              "    <tr>\n",
              "      <th>1</th>\n",
              "      <td>flavor techniques for lfv processes: higgs dec...</td>\n",
              "      <td>[flavor techniques for l f v processes : hi gg...</td>\n",
              "      <td>Physics</td>\n",
              "      <td>Aging Neuroscience</td>\n",
              "      <td>Aging Neuroscience</td>\n",
              "      <td>Medicine</td>\n",
              "    </tr>\n",
              "    <tr>\n",
              "      <th>2</th>\n",
              "      <td>corrigendum: human milk oligosaccharide compos...</td>\n",
              "      <td>[co rri gen du m : human milk ol igo sa cc har...</td>\n",
              "      <td>Pediatrics</td>\n",
              "      <td>Aging Neuroscience</td>\n",
              "      <td>Aging Neuroscience</td>\n",
              "      <td>Bioengineering and Biotechnology</td>\n",
              "    </tr>\n",
              "    <tr>\n",
              "      <th>3</th>\n",
              "      <td>obsessive–compulsive personality symptoms pred...</td>\n",
              "      <td>[ob ses sive – com pu ls ive personality sympt...</td>\n",
              "      <td>Psychiatry</td>\n",
              "      <td>Psychiatry</td>\n",
              "      <td>Psychiatry</td>\n",
              "      <td>Ecology and Evolution</td>\n",
              "    </tr>\n",
              "    <tr>\n",
              "      <th>4</th>\n",
              "      <td>blood-brain barrier and delivery of protein an...</td>\n",
              "      <td>[blood - brain barrier and delivery of protein...</td>\n",
              "      <td>Aging Neuroscience</td>\n",
              "      <td>Cellular Neuroscience</td>\n",
              "      <td>Cellular Neuroscience</td>\n",
              "      <td>Genetics</td>\n",
              "    </tr>\n",
              "  </tbody>\n",
              "</table>\n",
              "</div>\n",
              "      <button class=\"colab-df-convert\" onclick=\"convertToInteractive('df-e3e77195-9bb4-4f6d-a799-5899961c089b')\"\n",
              "              title=\"Convert this dataframe to an interactive table.\"\n",
              "              style=\"display:none;\">\n",
              "        \n",
              "  <svg xmlns=\"http://www.w3.org/2000/svg\" height=\"24px\"viewBox=\"0 0 24 24\"\n",
              "       width=\"24px\">\n",
              "    <path d=\"M0 0h24v24H0V0z\" fill=\"none\"/>\n",
              "    <path d=\"M18.56 5.44l.94 2.06.94-2.06 2.06-.94-2.06-.94-.94-2.06-.94 2.06-2.06.94zm-11 1L8.5 8.5l.94-2.06 2.06-.94-2.06-.94L8.5 2.5l-.94 2.06-2.06.94zm10 10l.94 2.06.94-2.06 2.06-.94-2.06-.94-.94-2.06-.94 2.06-2.06.94z\"/><path d=\"M17.41 7.96l-1.37-1.37c-.4-.4-.92-.59-1.43-.59-.52 0-1.04.2-1.43.59L10.3 9.45l-7.72 7.72c-.78.78-.78 2.05 0 2.83L4 21.41c.39.39.9.59 1.41.59.51 0 1.02-.2 1.41-.59l7.78-7.78 2.81-2.81c.8-.78.8-2.07 0-2.86zM5.41 20L4 18.59l7.72-7.72 1.47 1.35L5.41 20z\"/>\n",
              "  </svg>\n",
              "      </button>\n",
              "      \n",
              "  <style>\n",
              "    .colab-df-container {\n",
              "      display:flex;\n",
              "      flex-wrap:wrap;\n",
              "      gap: 12px;\n",
              "    }\n",
              "\n",
              "    .colab-df-convert {\n",
              "      background-color: #E8F0FE;\n",
              "      border: none;\n",
              "      border-radius: 50%;\n",
              "      cursor: pointer;\n",
              "      display: none;\n",
              "      fill: #1967D2;\n",
              "      height: 32px;\n",
              "      padding: 0 0 0 0;\n",
              "      width: 32px;\n",
              "    }\n",
              "\n",
              "    .colab-df-convert:hover {\n",
              "      background-color: #E2EBFA;\n",
              "      box-shadow: 0px 1px 2px rgba(60, 64, 67, 0.3), 0px 1px 3px 1px rgba(60, 64, 67, 0.15);\n",
              "      fill: #174EA6;\n",
              "    }\n",
              "\n",
              "    [theme=dark] .colab-df-convert {\n",
              "      background-color: #3B4455;\n",
              "      fill: #D2E3FC;\n",
              "    }\n",
              "\n",
              "    [theme=dark] .colab-df-convert:hover {\n",
              "      background-color: #434B5C;\n",
              "      box-shadow: 0px 1px 3px 1px rgba(0, 0, 0, 0.15);\n",
              "      filter: drop-shadow(0px 1px 2px rgba(0, 0, 0, 0.3));\n",
              "      fill: #FFFFFF;\n",
              "    }\n",
              "  </style>\n",
              "\n",
              "      <script>\n",
              "        const buttonEl =\n",
              "          document.querySelector('#df-e3e77195-9bb4-4f6d-a799-5899961c089b button.colab-df-convert');\n",
              "        buttonEl.style.display =\n",
              "          google.colab.kernel.accessAllowed ? 'block' : 'none';\n",
              "\n",
              "        async function convertToInteractive(key) {\n",
              "          const element = document.querySelector('#df-e3e77195-9bb4-4f6d-a799-5899961c089b');\n",
              "          const dataTable =\n",
              "            await google.colab.kernel.invokeFunction('convertToInteractive',\n",
              "                                                     [key], {});\n",
              "          if (!dataTable) return;\n",
              "\n",
              "          const docLinkHtml = 'Like what you see? Visit the ' +\n",
              "            '<a target=\"_blank\" href=https://colab.research.google.com/notebooks/data_table.ipynb>data table notebook</a>'\n",
              "            + ' to learn more about interactive tables.';\n",
              "          element.innerHTML = '';\n",
              "          dataTable['output_type'] = 'display_data';\n",
              "          await google.colab.output.renderOutput(dataTable, element);\n",
              "          const docLink = document.createElement('div');\n",
              "          docLink.innerHTML = docLinkHtml;\n",
              "          element.appendChild(docLink);\n",
              "        }\n",
              "      </script>\n",
              "    </div>\n",
              "  </div>\n",
              "  "
            ]
          },
          "metadata": {},
          "execution_count": 55
        }
      ]
    },
    {
      "cell_type": "markdown",
      "source": [
        "# Zero-shot Classification without Hugging Face pipeline"
      ],
      "metadata": {
        "id": "tQODpMEERxaV"
      }
    },
    {
      "cell_type": "code",
      "source": [
        "import torch\n",
        "\n",
        "device = 'cuda' if torch.cuda.is_available() else 'cpu'\n",
        "device"
      ],
      "metadata": {
        "colab": {
          "base_uri": "https://localhost:8080/",
          "height": 35
        },
        "id": "g3rhSL-2eXRl",
        "outputId": "bd2a1370-cd75-4f1f-d511-f0be1559f142"
      },
      "execution_count": null,
      "outputs": [
        {
          "output_type": "execute_result",
          "data": {
            "text/plain": [
              "'cuda'"
            ],
            "application/vnd.google.colaboratory.intrinsic+json": {
              "type": "string"
            }
          },
          "metadata": {},
          "execution_count": 37
        }
      ]
    },
    {
      "cell_type": "code",
      "source": [
        "# pose sequence as a NLI premise and label as a hypothesis\n",
        "from transformers import AutoModelForSequenceClassification, AutoTokenizer\n",
        "nli_model = AutoModelForSequenceClassification.from_pretrained(\"typeform/distilbert-base-uncased-mnli\").to(device)\n",
        "\n",
        "tokenizer = AutoTokenizer.from_pretrained(\"typeform/distilbert-base-uncased-mnli\")"
      ],
      "metadata": {
        "colab": {
          "base_uri": "https://localhost:8080/"
        },
        "id": "uJRN3sxleXOL",
        "outputId": "bbef6661-6f5d-4985-d09b-61287a2bb54a"
      },
      "execution_count": null,
      "outputs": [
        {
          "output_type": "stream",
          "name": "stderr",
          "text": [
            "The `xla_device` argument has been deprecated in v4.4.0 of Transformers. It is ignored and you can safely remove it from your `config.json` file.\n",
            "The `xla_device` argument has been deprecated in v4.4.0 of Transformers. It is ignored and you can safely remove it from your `config.json` file.\n",
            "The `xla_device` argument has been deprecated in v4.4.0 of Transformers. It is ignored and you can safely remove it from your `config.json` file.\n",
            "The `xla_device` argument has been deprecated in v4.4.0 of Transformers. It is ignored and you can safely remove it from your `config.json` file.\n"
          ]
        }
      ]
    },
    {
      "cell_type": "code",
      "source": [
        "nli_model.eval()\n",
        "\n",
        "predicted_label_prob_list = []\n",
        "predicted_label_count_list = []\n",
        "\n",
        "for index, sample in enumerate(test_data_split):\n",
        "# for sample in test_data_split:\n",
        "\n",
        "  # print(sample)\n",
        "  pred_dict_prob_sample = dict.fromkeys(candidate_labels, 0)\n",
        "  pred_dict_count_sample = dict.fromkeys(candidate_labels, 0)\n",
        "\n",
        "  for text_chunk in sample:\n",
        "    # print(text_chunk)\n",
        "    prob_score_chunk = dict.fromkeys(candidate_labels, 0)\n",
        "    for label in candidate_labels:\n",
        "\n",
        "      premise = text_chunk\n",
        "      hypothesis = f'This example is {label}.'\n",
        "\n",
        "      # run through model pre-trained on MNLI\n",
        "      x = tokenizer.encode(premise, hypothesis, return_tensors='pt',\n",
        "                     truncation='only_first')\n",
        "\n",
        "      logits = nli_model(x.to(device))[0]\n",
        "\n",
        "      # we throw away \"neutral\" (dim 1) and take the probability of\n",
        "      # \"entailment\" (2) as the probability of the label being true \n",
        "      entail_contradiction_logits = logits[:,[0,2]]\n",
        "      probs = entail_contradiction_logits.softmax(dim=1)\n",
        "      prob_label_is_true = probs[:,1]\n",
        "\n",
        "      # For each candidate label store its (entailment) probabilty score, for the text chunk\n",
        "      prob_score_chunk[label] = prob_label_is_true.detach().cpu().numpy()[0]\n",
        "\n",
        "      # Accumulate the probabilty scores for each label, for entire sample\n",
        "      pred_dict_prob_sample[label] += prob_score_chunk[label]\n",
        "\n",
        "    # Get the label with the highest probability score, and increase its occurrence count by 1\n",
        "    pred_dict_count_sample[max(prob_score_chunk, key=prob_score_chunk.get)] += 1\n",
        "\n",
        "  # Most predicted label for each sample is stored in a list \n",
        "  predicted_label_count_list.append(max(pred_dict_count_sample, key=pred_dict_count_sample.get))\n",
        "  # print(max(pred_dict_count_sample, key=pred_dict_count_sample.get))\n",
        "\n",
        "  # Label with highest accumulated probability score for each sample is stored in a list\n",
        "  predicted_label_prob_list.append(max(pred_dict_prob_sample, key=pred_dict_prob_sample.get))"
      ],
      "metadata": {
        "id": "laA7Ch31h382"
      },
      "execution_count": null,
      "outputs": []
    },
    {
      "cell_type": "code",
      "source": [
        "# pred_labels_count_list  # For ENTIRE long_text DATA\n",
        "accuracy_count = accuracy_score(test_labels, predicted_label_count_list)\n",
        "f1_score_count = f1_score(test_labels, predicted_label_count_list, average='macro')\n",
        "print(f'Test data long text (most first position count) -> Accuracy: {accuracy_count*100:.2f}, F1_score: {f1_score_count*100:.2f}')\n",
        "\n",
        "\n",
        "# pred_labels_count_list  # For ENTIRE long_text DATA\n",
        "\n",
        "accuracy_prob = accuracy_score(test_labels, predicted_label_prob_list)\n",
        "f1_score_prob = f1_score(test_labels, predicted_label_prob_list, average='macro')\n",
        "print(f'Test data long text (highest probability sum) -> Accuracy: {accuracy_prob*100:.2f}, F1_score: {f1_score_prob*100:.2f}')"
      ],
      "metadata": {
        "id": "zZLvv056kbOV"
      },
      "execution_count": null,
      "outputs": []
    },
    {
      "cell_type": "code",
      "source": [],
      "metadata": {
        "id": "RL46kHmVCMUy"
      },
      "execution_count": null,
      "outputs": []
    }
  ],
  "metadata": {
    "colab": {
      "provenance": [],
      "collapsed_sections": [],
      "machine_shape": "hm",
      "include_colab_link": true
    },
    "kernelspec": {
      "display_name": "Python 3",
      "name": "python3"
    },
    "language_info": {
      "name": "python"
    },
    "gpuClass": "standard",
    "accelerator": "GPU",
    "widgets": {
      "application/vnd.jupyter.widget-state+json": {
        "117f92fc27d54856ac200ab3452c64e3": {
          "model_module": "@jupyter-widgets/controls",
          "model_name": "HBoxModel",
          "model_module_version": "1.5.0",
          "state": {
            "_dom_classes": [],
            "_model_module": "@jupyter-widgets/controls",
            "_model_module_version": "1.5.0",
            "_model_name": "HBoxModel",
            "_view_count": null,
            "_view_module": "@jupyter-widgets/controls",
            "_view_module_version": "1.5.0",
            "_view_name": "HBoxView",
            "box_style": "",
            "children": [
              "IPY_MODEL_7d765b9fdb4f4388aa4e6f487af21e31",
              "IPY_MODEL_63904e9af89f490e8efbf324e96db249",
              "IPY_MODEL_234811c751ed45cbb3e8482d4a55cd94"
            ],
            "layout": "IPY_MODEL_3854a8a411d24435b3c1374c22c23342"
          }
        },
        "7d765b9fdb4f4388aa4e6f487af21e31": {
          "model_module": "@jupyter-widgets/controls",
          "model_name": "HTMLModel",
          "model_module_version": "1.5.0",
          "state": {
            "_dom_classes": [],
            "_model_module": "@jupyter-widgets/controls",
            "_model_module_version": "1.5.0",
            "_model_name": "HTMLModel",
            "_view_count": null,
            "_view_module": "@jupyter-widgets/controls",
            "_view_module_version": "1.5.0",
            "_view_name": "HTMLView",
            "description": "",
            "description_tooltip": null,
            "layout": "IPY_MODEL_e231880ae8a94868b643b8cbec25974e",
            "placeholder": "​",
            "style": "IPY_MODEL_99f4d443d85245fca89bc8ed1f666099",
            "value": "Downloading: 100%"
          }
        },
        "63904e9af89f490e8efbf324e96db249": {
          "model_module": "@jupyter-widgets/controls",
          "model_name": "FloatProgressModel",
          "model_module_version": "1.5.0",
          "state": {
            "_dom_classes": [],
            "_model_module": "@jupyter-widgets/controls",
            "_model_module_version": "1.5.0",
            "_model_name": "FloatProgressModel",
            "_view_count": null,
            "_view_module": "@jupyter-widgets/controls",
            "_view_module_version": "1.5.0",
            "_view_name": "ProgressView",
            "bar_style": "success",
            "description": "",
            "description_tooltip": null,
            "layout": "IPY_MODEL_fa46b7137ad74da594636f53da7fcc80",
            "max": 267866263,
            "min": 0,
            "orientation": "horizontal",
            "style": "IPY_MODEL_b1d7e53a0ae848209bf453d65d402802",
            "value": 267866263
          }
        },
        "234811c751ed45cbb3e8482d4a55cd94": {
          "model_module": "@jupyter-widgets/controls",
          "model_name": "HTMLModel",
          "model_module_version": "1.5.0",
          "state": {
            "_dom_classes": [],
            "_model_module": "@jupyter-widgets/controls",
            "_model_module_version": "1.5.0",
            "_model_name": "HTMLModel",
            "_view_count": null,
            "_view_module": "@jupyter-widgets/controls",
            "_view_module_version": "1.5.0",
            "_view_name": "HTMLView",
            "description": "",
            "description_tooltip": null,
            "layout": "IPY_MODEL_ee548ea0a4b74756a3987e06c0440e8d",
            "placeholder": "​",
            "style": "IPY_MODEL_709b7cb510a64ca18852e1be88a1a417",
            "value": " 268M/268M [00:13&lt;00:00, 20.8MB/s]"
          }
        },
        "3854a8a411d24435b3c1374c22c23342": {
          "model_module": "@jupyter-widgets/base",
          "model_name": "LayoutModel",
          "model_module_version": "1.2.0",
          "state": {
            "_model_module": "@jupyter-widgets/base",
            "_model_module_version": "1.2.0",
            "_model_name": "LayoutModel",
            "_view_count": null,
            "_view_module": "@jupyter-widgets/base",
            "_view_module_version": "1.2.0",
            "_view_name": "LayoutView",
            "align_content": null,
            "align_items": null,
            "align_self": null,
            "border": null,
            "bottom": null,
            "display": null,
            "flex": null,
            "flex_flow": null,
            "grid_area": null,
            "grid_auto_columns": null,
            "grid_auto_flow": null,
            "grid_auto_rows": null,
            "grid_column": null,
            "grid_gap": null,
            "grid_row": null,
            "grid_template_areas": null,
            "grid_template_columns": null,
            "grid_template_rows": null,
            "height": null,
            "justify_content": null,
            "justify_items": null,
            "left": null,
            "margin": null,
            "max_height": null,
            "max_width": null,
            "min_height": null,
            "min_width": null,
            "object_fit": null,
            "object_position": null,
            "order": null,
            "overflow": null,
            "overflow_x": null,
            "overflow_y": null,
            "padding": null,
            "right": null,
            "top": null,
            "visibility": null,
            "width": null
          }
        },
        "e231880ae8a94868b643b8cbec25974e": {
          "model_module": "@jupyter-widgets/base",
          "model_name": "LayoutModel",
          "model_module_version": "1.2.0",
          "state": {
            "_model_module": "@jupyter-widgets/base",
            "_model_module_version": "1.2.0",
            "_model_name": "LayoutModel",
            "_view_count": null,
            "_view_module": "@jupyter-widgets/base",
            "_view_module_version": "1.2.0",
            "_view_name": "LayoutView",
            "align_content": null,
            "align_items": null,
            "align_self": null,
            "border": null,
            "bottom": null,
            "display": null,
            "flex": null,
            "flex_flow": null,
            "grid_area": null,
            "grid_auto_columns": null,
            "grid_auto_flow": null,
            "grid_auto_rows": null,
            "grid_column": null,
            "grid_gap": null,
            "grid_row": null,
            "grid_template_areas": null,
            "grid_template_columns": null,
            "grid_template_rows": null,
            "height": null,
            "justify_content": null,
            "justify_items": null,
            "left": null,
            "margin": null,
            "max_height": null,
            "max_width": null,
            "min_height": null,
            "min_width": null,
            "object_fit": null,
            "object_position": null,
            "order": null,
            "overflow": null,
            "overflow_x": null,
            "overflow_y": null,
            "padding": null,
            "right": null,
            "top": null,
            "visibility": null,
            "width": null
          }
        },
        "99f4d443d85245fca89bc8ed1f666099": {
          "model_module": "@jupyter-widgets/controls",
          "model_name": "DescriptionStyleModel",
          "model_module_version": "1.5.0",
          "state": {
            "_model_module": "@jupyter-widgets/controls",
            "_model_module_version": "1.5.0",
            "_model_name": "DescriptionStyleModel",
            "_view_count": null,
            "_view_module": "@jupyter-widgets/base",
            "_view_module_version": "1.2.0",
            "_view_name": "StyleView",
            "description_width": ""
          }
        },
        "fa46b7137ad74da594636f53da7fcc80": {
          "model_module": "@jupyter-widgets/base",
          "model_name": "LayoutModel",
          "model_module_version": "1.2.0",
          "state": {
            "_model_module": "@jupyter-widgets/base",
            "_model_module_version": "1.2.0",
            "_model_name": "LayoutModel",
            "_view_count": null,
            "_view_module": "@jupyter-widgets/base",
            "_view_module_version": "1.2.0",
            "_view_name": "LayoutView",
            "align_content": null,
            "align_items": null,
            "align_self": null,
            "border": null,
            "bottom": null,
            "display": null,
            "flex": null,
            "flex_flow": null,
            "grid_area": null,
            "grid_auto_columns": null,
            "grid_auto_flow": null,
            "grid_auto_rows": null,
            "grid_column": null,
            "grid_gap": null,
            "grid_row": null,
            "grid_template_areas": null,
            "grid_template_columns": null,
            "grid_template_rows": null,
            "height": null,
            "justify_content": null,
            "justify_items": null,
            "left": null,
            "margin": null,
            "max_height": null,
            "max_width": null,
            "min_height": null,
            "min_width": null,
            "object_fit": null,
            "object_position": null,
            "order": null,
            "overflow": null,
            "overflow_x": null,
            "overflow_y": null,
            "padding": null,
            "right": null,
            "top": null,
            "visibility": null,
            "width": null
          }
        },
        "b1d7e53a0ae848209bf453d65d402802": {
          "model_module": "@jupyter-widgets/controls",
          "model_name": "ProgressStyleModel",
          "model_module_version": "1.5.0",
          "state": {
            "_model_module": "@jupyter-widgets/controls",
            "_model_module_version": "1.5.0",
            "_model_name": "ProgressStyleModel",
            "_view_count": null,
            "_view_module": "@jupyter-widgets/base",
            "_view_module_version": "1.2.0",
            "_view_name": "StyleView",
            "bar_color": null,
            "description_width": ""
          }
        },
        "ee548ea0a4b74756a3987e06c0440e8d": {
          "model_module": "@jupyter-widgets/base",
          "model_name": "LayoutModel",
          "model_module_version": "1.2.0",
          "state": {
            "_model_module": "@jupyter-widgets/base",
            "_model_module_version": "1.2.0",
            "_model_name": "LayoutModel",
            "_view_count": null,
            "_view_module": "@jupyter-widgets/base",
            "_view_module_version": "1.2.0",
            "_view_name": "LayoutView",
            "align_content": null,
            "align_items": null,
            "align_self": null,
            "border": null,
            "bottom": null,
            "display": null,
            "flex": null,
            "flex_flow": null,
            "grid_area": null,
            "grid_auto_columns": null,
            "grid_auto_flow": null,
            "grid_auto_rows": null,
            "grid_column": null,
            "grid_gap": null,
            "grid_row": null,
            "grid_template_areas": null,
            "grid_template_columns": null,
            "grid_template_rows": null,
            "height": null,
            "justify_content": null,
            "justify_items": null,
            "left": null,
            "margin": null,
            "max_height": null,
            "max_width": null,
            "min_height": null,
            "min_width": null,
            "object_fit": null,
            "object_position": null,
            "order": null,
            "overflow": null,
            "overflow_x": null,
            "overflow_y": null,
            "padding": null,
            "right": null,
            "top": null,
            "visibility": null,
            "width": null
          }
        },
        "709b7cb510a64ca18852e1be88a1a417": {
          "model_module": "@jupyter-widgets/controls",
          "model_name": "DescriptionStyleModel",
          "model_module_version": "1.5.0",
          "state": {
            "_model_module": "@jupyter-widgets/controls",
            "_model_module_version": "1.5.0",
            "_model_name": "DescriptionStyleModel",
            "_view_count": null,
            "_view_module": "@jupyter-widgets/base",
            "_view_module_version": "1.2.0",
            "_view_name": "StyleView",
            "description_width": ""
          }
        }
      }
    }
  },
  "nbformat": 4,
  "nbformat_minor": 0
}